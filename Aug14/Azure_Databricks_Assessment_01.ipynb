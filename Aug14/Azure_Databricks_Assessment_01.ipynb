{
  "nbformat": 4,
  "nbformat_minor": 0,
  "metadata": {
    "colab": {
      "provenance": []
    },
    "kernelspec": {
      "name": "python3",
      "display_name": "Python 3"
    },
    "language_info": {
      "name": "python"
    }
  },
  "cells": [
    {
      "cell_type": "code",
      "execution_count": 1,
      "metadata": {
        "colab": {
          "base_uri": "https://localhost:8080/"
        },
        "id": "_jfl1bLSBbMe",
        "outputId": "7da85ea3-9060-4b0c-ace8-31c58a24fee7"
      },
      "outputs": [
        {
          "output_type": "stream",
          "name": "stdout",
          "text": [
            "Collecting pyspark==3.5.0\n",
            "  Downloading pyspark-3.5.0.tar.gz (316.9 MB)\n",
            "\u001b[2K     \u001b[90m━━━━━━━━━━━━━━━━━━━━━━━━━━━━━━━━━━━━━━━\u001b[0m \u001b[32m316.9/316.9 MB\u001b[0m \u001b[31m4.5 MB/s\u001b[0m eta \u001b[36m0:00:00\u001b[0m\n",
            "\u001b[?25h  Preparing metadata (setup.py) ... \u001b[?25l\u001b[?25hdone\n",
            "Collecting delta-spark==3.1.0\n",
            "  Downloading delta_spark-3.1.0-py3-none-any.whl.metadata (1.9 kB)\n",
            "Requirement already satisfied: py4j==0.10.9.7 in /usr/local/lib/python3.11/dist-packages (from pyspark==3.5.0) (0.10.9.7)\n",
            "Requirement already satisfied: importlib-metadata>=1.0.0 in /usr/local/lib/python3.11/dist-packages (from delta-spark==3.1.0) (8.7.0)\n",
            "Requirement already satisfied: zipp>=3.20 in /usr/local/lib/python3.11/dist-packages (from importlib-metadata>=1.0.0->delta-spark==3.1.0) (3.23.0)\n",
            "Downloading delta_spark-3.1.0-py3-none-any.whl (21 kB)\n",
            "Building wheels for collected packages: pyspark\n",
            "  Building wheel for pyspark (setup.py) ... \u001b[?25l\u001b[?25hdone\n",
            "  Created wheel for pyspark: filename=pyspark-3.5.0-py2.py3-none-any.whl size=317425346 sha256=955ea86070c2c10746c6d36f02f02f6d4510c91706d3244369619a7b47b78e67\n",
            "  Stored in directory: /root/.cache/pip/wheels/38/df/61/8c121f50c3cffd77f8178180dd232d90b3b99d1bd61fb6d6be\n",
            "Successfully built pyspark\n",
            "Installing collected packages: pyspark, delta-spark\n",
            "  Attempting uninstall: pyspark\n",
            "    Found existing installation: pyspark 3.5.1\n",
            "    Uninstalling pyspark-3.5.1:\n",
            "      Successfully uninstalled pyspark-3.5.1\n",
            "\u001b[31mERROR: pip's dependency resolver does not currently take into account all the packages that are installed. This behaviour is the source of the following dependency conflicts.\n",
            "dataproc-spark-connect 0.8.3 requires pyspark[connect]~=3.5.1, but you have pyspark 3.5.0 which is incompatible.\u001b[0m\u001b[31m\n",
            "\u001b[0mSuccessfully installed delta-spark-3.1.0 pyspark-3.5.0\n"
          ]
        }
      ],
      "source": [
        "!pip install pyspark==3.5.0 delta-spark==3.1.0\n"
      ]
    },
    {
      "cell_type": "code",
      "source": [
        "from pyspark.sql import SparkSession\n",
        "from delta import configure_spark_with_delta_pip\n",
        "\n",
        "# Spark session with Delta support\n",
        "builder = (\n",
        "    SparkSession.builder.appName(\"DeltaDemo\")\n",
        "    .config(\"spark.sql.extensions\", \"io.delta.sql.DeltaSparkSessionExtension\")\n",
        "    .config(\"spark.sql.catalog.spark_catalog\", \"org.apache.spark.sql.delta.catalog.DeltaCatalog\")\n",
        ")\n",
        "\n",
        "spark = configure_spark_with_delta_pip(builder).getOrCreate()\n",
        "\n",
        "# Sample data\n",
        "data = [\n",
        "    (1, \"John\", \"Electronics\", 2, 300),\n",
        "    (2, \"Sara\", \"Clothing\", 1, 50),\n",
        "    (3, \"Mike\", \"Electronics\", 4, 600),\n",
        "    (4, \"Nina\", \"Clothing\", 3, 150),\n",
        "]\n",
        "columns = [\"order_id\", \"customer_name\", \"category\", \"quantity\", \"amount\"]\n",
        "\n",
        "# Create DataFrame\n",
        "df = spark.createDataFrame(data, columns)\n",
        "\n",
        "# Save as Delta table in Colab\n",
        "path = \"/content/orders_delta\"\n",
        "df.write.format(\"delta\").mode(\"overwrite\").save(path)\n",
        "\n",
        "\n"
      ],
      "metadata": {
        "id": "a6GolM67G3Po"
      },
      "execution_count": 19,
      "outputs": []
    },
    {
      "cell_type": "code",
      "source": [
        "# Dropping tables\n",
        "spark.sql(\"DROP TABLE IF EXISTS orders_managed\")\n",
        "spark.sql(\"DROP TABLE IF EXISTS orders_unmanaged\")\n",
        "\n",
        "#1 Managed Table\n",
        "spark.sql(\"CREATE TABLE IF NOT EXISTS orders_managed USING DELTA LOCATION '/content/orders_delta'\")\n",
        "\n",
        "# Unmanaged Table\n",
        "spark.sql(\"CREATE TABLE IF NOT EXISTS orders_unmanaged USING DELTA LOCATION '/content/orders_delta'\")\n",
        "\n",
        "print(\"Managed and Unmanaged tables created\")\n",
        "\n",
        "spark.sql(\"SHOW TABLES\").show()"
      ],
      "metadata": {
        "colab": {
          "base_uri": "https://localhost:8080/"
        },
        "id": "PEMrGjrpG3MC",
        "outputId": "c7757b47-e748-48ab-e64f-5207f461ab4d"
      },
      "execution_count": 21,
      "outputs": [
        {
          "output_type": "stream",
          "name": "stdout",
          "text": [
            "Managed and Unmanaged tables created\n",
            "+---------+----------------+-----------+\n",
            "|namespace|       tableName|isTemporary|\n",
            "+---------+----------------+-----------+\n",
            "|  default|      new_orders|      false|\n",
            "|  default|  orders_managed|      false|\n",
            "|  default|orders_unmanaged|      false|\n",
            "+---------+----------------+-----------+\n",
            "\n"
          ]
        }
      ]
    },
    {
      "cell_type": "code",
      "source": [
        "#2 CRUD OPERATIONS\n",
        "#Read from the table\n",
        "spark.sql(\"SELECT * FROM orders_managed\").show()\n"
      ],
      "metadata": {
        "colab": {
          "base_uri": "https://localhost:8080/"
        },
        "id": "NhgeueWzG3JJ",
        "outputId": "4797699b-69ae-4026-ba40-ce7b21d4d5dd"
      },
      "execution_count": 5,
      "outputs": [
        {
          "output_type": "stream",
          "name": "stdout",
          "text": [
            "+--------+-------------+-----------+--------+------+\n",
            "|order_id|customer_name|   category|quantity|amount|\n",
            "+--------+-------------+-----------+--------+------+\n",
            "|       1|         John|Electronics|       2|   300|\n",
            "|       2|         Sara|   Clothing|       1|    50|\n",
            "|       3|         Mike|Electronics|       4|   600|\n",
            "|       4|         Nina|   Clothing|       3|   150|\n",
            "+--------+-------------+-----------+--------+------+\n",
            "\n"
          ]
        }
      ]
    },
    {
      "cell_type": "code",
      "source": [
        "#Update table\n",
        "spark.sql(\"\"\"\n",
        "    UPDATE orders_managed\n",
        "    SET amount = amount + 20\n",
        "    WHERE category = 'Clothing'\n",
        "\"\"\")\n"
      ],
      "metadata": {
        "colab": {
          "base_uri": "https://localhost:8080/"
        },
        "id": "vsr-_cd_G3GR",
        "outputId": "34ee5621-2545-4549-bd64-bf0c35556b84"
      },
      "execution_count": 6,
      "outputs": [
        {
          "output_type": "execute_result",
          "data": {
            "text/plain": [
              "DataFrame[num_affected_rows: bigint]"
            ]
          },
          "metadata": {},
          "execution_count": 6
        }
      ]
    },
    {
      "cell_type": "code",
      "source": [
        "#Delete table\n",
        "spark.sql(\"\"\"\n",
        "    DELETE FROM orders_managed\n",
        "    WHERE quantity < 2\n",
        "\"\"\")\n"
      ],
      "metadata": {
        "colab": {
          "base_uri": "https://localhost:8080/"
        },
        "id": "IjmjCaSfG3Cw",
        "outputId": "22241ed4-ecef-4934-bd5d-1ae4c9be7575"
      },
      "execution_count": 7,
      "outputs": [
        {
          "output_type": "execute_result",
          "data": {
            "text/plain": [
              "DataFrame[num_affected_rows: bigint]"
            ]
          },
          "metadata": {},
          "execution_count": 7
        }
      ]
    },
    {
      "cell_type": "code",
      "source": [
        "#Merge table\n",
        "from pyspark.sql import Row\n",
        "\n",
        "new_data = [\n",
        "    (3, \"Mike\", \"Electronics\", 5, 750),  # updated quantity & amount\n",
        "    (5, \"Emma\", \"Electronics\", 2, 400),  # new order\n",
        "]\n",
        "columns = [\"order_id\", \"customer_name\", \"category\", \"quantity\", \"amount\"]\n",
        "new_df = spark.createDataFrame(new_data, columns)\n",
        "\n",
        "# Save to temp delta path\n",
        "temp_path = \"/content/new_orders_delta\"\n",
        "new_df.write.format(\"delta\").mode(\"overwrite\").save(temp_path)\n",
        "\n",
        "# Create temp table for merge\n",
        "spark.sql(f\"CREATE TABLE new_orders USING DELTA LOCATION '{temp_path}'\")\n",
        "\n",
        "# Merge into orders_managed\n",
        "spark.sql(\"\"\"\n",
        "    MERGE INTO orders_managed AS target\n",
        "    USING new_orders AS source\n",
        "    ON target.order_id = source.order_id\n",
        "    WHEN MATCHED THEN UPDATE SET *\n",
        "    WHEN NOT MATCHED THEN INSERT *\n",
        "\"\"\")\n"
      ],
      "metadata": {
        "colab": {
          "base_uri": "https://localhost:8080/"
        },
        "id": "4Xfnle3-G2_J",
        "outputId": "ec7c41fa-9d15-44b2-a768-207f38596b78"
      },
      "execution_count": 8,
      "outputs": [
        {
          "output_type": "execute_result",
          "data": {
            "text/plain": [
              "DataFrame[num_affected_rows: bigint, num_updated_rows: bigint, num_deleted_rows: bigint, num_inserted_rows: bigint]"
            ]
          },
          "metadata": {},
          "execution_count": 8
        }
      ]
    },
    {
      "cell_type": "code",
      "source": [
        "spark.sql(\"SELECT * FROM orders_managed\").show()\n"
      ],
      "metadata": {
        "colab": {
          "base_uri": "https://localhost:8080/"
        },
        "id": "T4D0fVFwG22g",
        "outputId": "050cbf7d-b61f-4bfe-d335-17db5727d6d8"
      },
      "execution_count": 9,
      "outputs": [
        {
          "output_type": "stream",
          "name": "stdout",
          "text": [
            "+--------+-------------+-----------+--------+------+\n",
            "|order_id|customer_name|   category|quantity|amount|\n",
            "+--------+-------------+-----------+--------+------+\n",
            "|       3|         Mike|Electronics|       5|   750|\n",
            "|       4|         Nina|   Clothing|       3|   170|\n",
            "|       5|         Emma|Electronics|       2|   400|\n",
            "|       1|         John|Electronics|       2|   300|\n",
            "+--------+-------------+-----------+--------+------+\n",
            "\n"
          ]
        }
      ]
    },
    {
      "cell_type": "code",
      "source": [
        "# 3 History and Time Travel\n",
        "spark.sql(\"DESCRIBE HISTORY orders_managed\").show(truncate=False)\n"
      ],
      "metadata": {
        "colab": {
          "base_uri": "https://localhost:8080/"
        },
        "id": "B1URFY_IKIvV",
        "outputId": "4f07aa19-e49c-434e-eda8-f6828dba904e"
      },
      "execution_count": 10,
      "outputs": [
        {
          "output_type": "stream",
          "name": "stdout",
          "text": [
            "+-------+-----------------------+------+--------+---------+-------------------------------------------------------------------------------------------------------------------------------------------------------------------------------------------+----+--------+---------+-----------+--------------+-------------+--------------------------------------------------------------------------------------------------------------------------------------------------------------------------------------------------------------------------------------------------------------------------------------------------------------------------------------------------------------------------------------------------------------------------------------------------------------------------------------------------------------------------------------------------------------------------------------------------------------------------------------------------------+------------+-----------------------------------+\n",
            "|version|timestamp              |userId|userName|operation|operationParameters                                                                                                                                                                        |job |notebook|clusterId|readVersion|isolationLevel|isBlindAppend|operationMetrics                                                                                                                                                                                                                                                                                                                                                                                                                                                                                                                                                                                                                                        |userMetadata|engineInfo                         |\n",
            "+-------+-----------------------+------+--------+---------+-------------------------------------------------------------------------------------------------------------------------------------------------------------------------------------------+----+--------+---------+-----------+--------------+-------------+--------------------------------------------------------------------------------------------------------------------------------------------------------------------------------------------------------------------------------------------------------------------------------------------------------------------------------------------------------------------------------------------------------------------------------------------------------------------------------------------------------------------------------------------------------------------------------------------------------------------------------------------------------+------------+-----------------------------------+\n",
            "|4      |2025-08-14 05:49:50.008|NULL  |NULL    |MERGE    |{predicate -> [\"(order_id#5569L = order_id#5574L)\"], matchedPredicates -> [{\"actionType\":\"update\"}], notMatchedPredicates -> [{\"actionType\":\"insert\"}], notMatchedBySourcePredicates -> []}|NULL|NULL    |NULL     |3          |Serializable  |false        |{numTargetRowsCopied -> 1, numTargetRowsDeleted -> 0, numTargetFilesAdded -> 1, numTargetBytesAdded -> 1627, numTargetBytesRemoved -> 1566, numTargetDeletionVectorsAdded -> 0, numTargetRowsMatchedUpdated -> 1, executionTimeMs -> 9075, numTargetRowsInserted -> 1, numTargetRowsMatchedDeleted -> 0, numTargetDeletionVectorsUpdated -> 0, scanTimeMs -> 6132, numTargetRowsUpdated -> 1, numOutputRows -> 3, numTargetDeletionVectorsRemoved -> 0, numTargetRowsNotMatchedBySourceUpdated -> 0, numTargetChangeFilesAdded -> 0, numSourceRows -> 2, numTargetFilesRemoved -> 1, numTargetRowsNotMatchedBySourceDeleted -> 0, rewriteTimeMs -> 2909}|NULL        |Apache-Spark/3.5.0 Delta-Lake/3.1.0|\n",
            "|3      |2025-08-14 05:48:38.015|NULL  |NULL    |DELETE   |{predicate -> [\"(quantity#3390L < 2)\"]}                                                                                                                                                    |NULL|NULL    |NULL     |2          |Serializable  |false        |{numRemovedFiles -> 1, numRemovedBytes -> 1565, numCopiedRows -> 1, numDeletionVectorsAdded -> 0, numDeletionVectorsRemoved -> 0, numAddedChangeFiles -> 0, executionTimeMs -> 3567, numDeletionVectorsUpdated -> 0, numDeletedRows -> 1, scanTimeMs -> 3158, numAddedFiles -> 1, numAddedBytes -> 1567, rewriteTimeMs -> 408}                                                                                                                                                                                                                                                                                                                          |NULL        |Apache-Spark/3.5.0 Delta-Lake/3.1.0|\n",
            "|2      |2025-08-14 05:48:06.804|NULL  |NULL    |UPDATE   |{predicate -> [\"(category#2273 = Clothing)\"]}                                                                                                                                              |NULL|NULL    |NULL     |1          |Serializable  |false        |{numRemovedFiles -> 2, numRemovedBytes -> 3130, numCopiedRows -> 2, numDeletionVectorsAdded -> 0, numDeletionVectorsRemoved -> 0, numAddedChangeFiles -> 0, executionTimeMs -> 5005, numDeletionVectorsUpdated -> 0, scanTimeMs -> 4122, numAddedFiles -> 2, numUpdatedRows -> 2, numAddedBytes -> 3131, rewriteTimeMs -> 879}                                                                                                                                                                                                                                                                                                                          |NULL        |Apache-Spark/3.5.0 Delta-Lake/3.1.0|\n",
            "|1      |2025-08-14 05:45:27.496|NULL  |NULL    |WRITE    |{mode -> Overwrite, partitionBy -> []}                                                                                                                                                     |NULL|NULL    |NULL     |0          |Serializable  |false        |{numFiles -> 2, numOutputRows -> 4, numOutputBytes -> 3130}                                                                                                                                                                                                                                                                                                                                                                                                                                                                                                                                                                                             |NULL        |Apache-Spark/3.5.0 Delta-Lake/3.1.0|\n",
            "|0      |2025-08-14 05:44:55.865|NULL  |NULL    |WRITE    |{mode -> Overwrite, partitionBy -> []}                                                                                                                                                     |NULL|NULL    |NULL     |NULL       |Serializable  |false        |{numFiles -> 2, numOutputRows -> 4, numOutputBytes -> 3130}                                                                                                                                                                                                                                                                                                                                                                                                                                                                                                                                                                                             |NULL        |Apache-Spark/3.5.0 Delta-Lake/3.1.0|\n",
            "+-------+-----------------------+------+--------+---------+-------------------------------------------------------------------------------------------------------------------------------------------------------------------------------------------+----+--------+---------+-----------+--------------+-------------+--------------------------------------------------------------------------------------------------------------------------------------------------------------------------------------------------------------------------------------------------------------------------------------------------------------------------------------------------------------------------------------------------------------------------------------------------------------------------------------------------------------------------------------------------------------------------------------------------------------------------------------------------------+------------+-----------------------------------+\n",
            "\n"
          ]
        }
      ]
    },
    {
      "cell_type": "code",
      "source": [
        "spark.read.format(\"delta\").option(\"versionAsOf\", 0).table(\"orders_managed\").show()\n"
      ],
      "metadata": {
        "colab": {
          "base_uri": "https://localhost:8080/"
        },
        "id": "kurpKgNzKIr0",
        "outputId": "c16288fb-ca61-4e7f-92e1-fe5284518d40"
      },
      "execution_count": 11,
      "outputs": [
        {
          "output_type": "stream",
          "name": "stdout",
          "text": [
            "+--------+-------------+-----------+--------+------+\n",
            "|order_id|customer_name|   category|quantity|amount|\n",
            "+--------+-------------+-----------+--------+------+\n",
            "|       1|         John|Electronics|       2|   300|\n",
            "|       2|         Sara|   Clothing|       1|    50|\n",
            "|       3|         Mike|Electronics|       4|   600|\n",
            "|       4|         Nina|   Clothing|       3|   150|\n",
            "+--------+-------------+-----------+--------+------+\n",
            "\n"
          ]
        }
      ]
    },
    {
      "cell_type": "code",
      "source": [
        "spark.sql(\"SELECT * FROM orders_managed\").show()\n"
      ],
      "metadata": {
        "colab": {
          "base_uri": "https://localhost:8080/"
        },
        "id": "6u5s5H-FKIpN",
        "outputId": "549d2aba-b929-4650-ec81-8f7d72e3f210"
      },
      "execution_count": 12,
      "outputs": [
        {
          "output_type": "stream",
          "name": "stdout",
          "text": [
            "+--------+-------------+-----------+--------+------+\n",
            "|order_id|customer_name|   category|quantity|amount|\n",
            "+--------+-------------+-----------+--------+------+\n",
            "|       3|         Mike|Electronics|       5|   750|\n",
            "|       4|         Nina|   Clothing|       3|   170|\n",
            "|       5|         Emma|Electronics|       2|   400|\n",
            "|       1|         John|Electronics|       2|   300|\n",
            "+--------+-------------+-----------+--------+------+\n",
            "\n"
          ]
        }
      ]
    },
    {
      "cell_type": "code",
      "source": [
        "#4 Incremental load pattern\n",
        "# New mini-batch data\n",
        "batch_data = [\n",
        "    (5, \"Emma\", \"Electronics\", 2, 400),\n",
        "    (6, \"Alex\", \"Clothing\", 1, 80),\n",
        "]\n",
        "columns = [\"order_id\", \"customer_name\", \"category\", \"quantity\", \"amount\"]\n",
        "\n",
        "# Create DataFrame\n",
        "batch_df = spark.createDataFrame(batch_data, columns)\n",
        "\n",
        "# Append to Delta table\n",
        "batch_df.write.format(\"delta\").mode(\"append\").saveAsTable(\"orders_managed\")\n",
        "\n",
        "print(\"Incremental batch appended\")\n",
        "\n",
        "# final result\n",
        "spark.sql(\"SELECT * FROM orders_managed\").show()\n"
      ],
      "metadata": {
        "colab": {
          "base_uri": "https://localhost:8080/"
        },
        "id": "IDDkmU9iKImv",
        "outputId": "377cf402-098b-4fcc-8aa6-b1aec95b09d0"
      },
      "execution_count": 13,
      "outputs": [
        {
          "output_type": "stream",
          "name": "stdout",
          "text": [
            "Incremental batch appended\n",
            "+--------+-------------+-----------+--------+------+\n",
            "|order_id|customer_name|   category|quantity|amount|\n",
            "+--------+-------------+-----------+--------+------+\n",
            "|       3|         Mike|Electronics|       5|   750|\n",
            "|       4|         Nina|   Clothing|       3|   170|\n",
            "|       5|         Emma|Electronics|       2|   400|\n",
            "|       1|         John|Electronics|       2|   300|\n",
            "|       5|         Emma|Electronics|       2|   400|\n",
            "|       6|         Alex|   Clothing|       1|    80|\n",
            "+--------+-------------+-----------+--------+------+\n",
            "\n"
          ]
        }
      ]
    },
    {
      "cell_type": "code",
      "source": [
        "#5 Simple Streaming Read\n",
        "from time import sleep\n",
        "\n",
        "# Streaming read from the Delta table\n",
        "stream_df = (spark.readStream\n",
        "             .format(\"delta\")\n",
        "             .load(\"/content/orders_delta\"))\n",
        "\n",
        "# Write stream to console\n",
        "query = (stream_df.writeStream\n",
        "         .format(\"console\")\n",
        "         .outputMode(\"append\")\n",
        "         .trigger(processingTime=\"5 seconds\")\n",
        "         .start())\n",
        "sleep(20)\n",
        "query.stop()\n",
        "\n"
      ],
      "metadata": {
        "id": "XGwaJeL6KIkY"
      },
      "execution_count": 16,
      "outputs": []
    },
    {
      "cell_type": "code",
      "source": [
        "#6 Visualization\n",
        "import pandas as pd\n",
        "import matplotlib.pyplot as plt\n",
        "\n",
        "# Read Delta table into Pandas\n",
        "pdf = spark.read.format(\"delta\").load(\"/content/orders_delta\").toPandas()\n",
        "\n",
        "# Group by category and sum the amount\n",
        "category_amount = pdf.groupby(\"category\")[\"amount\"].sum().reset_index()\n",
        "\n",
        "# Plot bar chart\n",
        "plt.bar(category_amount[\"category\"], category_amount[\"amount\"], color=[\"blue\", \"orange\"])\n",
        "plt.xlabel(\"Category\")\n",
        "plt.ylabel(\"Total Amount\")\n",
        "plt.title(\"Category vs Total Amount\")\n",
        "plt.show()\n"
      ],
      "metadata": {
        "colab": {
          "base_uri": "https://localhost:8080/",
          "height": 472
        },
        "id": "zO6Jeq18M1i0",
        "outputId": "7d1f42af-b225-4df8-d818-50927530d770"
      },
      "execution_count": 17,
      "outputs": [
        {
          "output_type": "display_data",
          "data": {
            "text/plain": [
              "<Figure size 640x480 with 1 Axes>"
            ],
            "image/png": "[encoded data removed]"
          },
          "metadata": {}
        }
      ]
    }
  ]
}