{
  "nbformat": 4,
  "nbformat_minor": 0,
  "metadata": {
    "colab": {
      "provenance": []
    },
    "kernelspec": {
      "name": "python3",
      "display_name": "Python 3"
    },
    "language_info": {
      "name": "python"
    }
  },
  "cells": [
    {
      "cell_type": "code",
      "source": [
        "!pip install pyspark==3.5.0 delta-spark==3.1.0 --quiet\n",
        "\n",
        "from pyspark.sql import SparkSession\n",
        "from delta import configure_spark_with_delta_pip\n",
        "from pyspark.sql import types as T\n",
        "from datetime import datetime\n",
        "\n",
        "# Spark with Delta enabled\n",
        "builder = (\n",
        "    SparkSession.builder.appName(\"DeltaRideHailing\")\n",
        "    .config(\"spark.sql.extensions\", \"io.delta.sql.DeltaSparkSessionExtension\")\n",
        "    .config(\"spark.sql.catalog.spark_catalog\", \"org.apache.spark.sql.delta.catalog.DeltaCatalog\")\n",
        ")\n",
        "spark = configure_spark_with_delta_pip(builder).getOrCreate()\n",
        "\n",
        "# ---------- Schema ----------\n",
        "trip_schema = T.StructType([\n",
        "    T.StructField(\"trip_id\",      T.IntegerType()),\n",
        "    T.StructField(\"rider_id\",     T.StringType()),\n",
        "    T.StructField(\"driver_id\",    T.StringType()),\n",
        "    T.StructField(\"city\",         T.StringType()),\n",
        "    T.StructField(\"distance_km\",  T.DoubleType()),\n",
        "    T.StructField(\"fare\",         T.DoubleType()),\n",
        "    T.StructField(\"tip\",          T.DoubleType()),\n",
        "    T.StructField(\"ts\",           T.TimestampType())\n",
        "])\n",
        "\n",
        "driver_schema = T.StructType([\n",
        "    T.StructField(\"driver_id\",  T.StringType()),\n",
        "    T.StructField(\"driver_name\",T.StringType()),\n",
        "    T.StructField(\"rating\",     T.DoubleType()),\n",
        "    T.StructField(\"vehicle\",    T.StringType())\n",
        "])\n",
        "\n",
        "# ---------- Inline data (fixed with datetime) ----------\n",
        "trips_rows = [\n",
        "    (1001,\"R001\",\"D010\",\"Bengaluru\", 12.4, 320.0, 20.0, datetime(2025,8,8,8,5,0)),\n",
        "    (1002,\"R002\",\"D011\",\"Hyderabad\",  6.2, 150.0, 10.0, datetime(2025,8,8,8,15,0)),\n",
        "    (1003,\"R003\",\"D012\",\"Pune\",       3.5,  90.0,  0.0, datetime(2025,8,8,8,20,0)),\n",
        "    (1004,\"R001\",\"D010\",\"Bengaluru\", 18.9, 480.0, 25.0, datetime(2025,8,8,8,45,0)),\n",
        "    (1005,\"R004\",\"D013\",\"Chennai\",   10.0, 260.0, 15.0, datetime(2025,8,8,9,5,0)),\n",
        "    (1006,\"R005\",\"D012\",\"Pune\",       2.2,  70.0,  0.0, datetime(2025,8,8,9,10,0)),\n",
        "]\n",
        "\n",
        "drivers_rows = [\n",
        "    (\"D010\",\"Anil\",   4.8,\"WagonR\"),\n",
        "    (\"D011\",\"Sana\",   4.6,\"i20\"),\n",
        "    (\"D012\",\"Rakesh\", 4.4,\"Swift\"),\n",
        "    (\"D013\",\"Meera\",  4.9,\"Ciaz\")\n",
        "]\n",
        "\n",
        "# Create DataFrames\n",
        "trips_df   = spark.createDataFrame(trips_rows, schema=trip_schema)\n",
        "drivers_df = spark.createDataFrame(drivers_rows, schema=driver_schema)\n",
        "\n",
        "# ---------- Save as Delta ----------\n",
        "BASE = \"/content/delta/ride_hailing\"\n",
        "TRIPS_PATH   = f\"{BASE}/trips\"\n",
        "DRIVERS_PATH = f\"{BASE}/drivers\"\n",
        "\n",
        "trips_df.write.format(\"delta\").mode(\"overwrite\").save(TRIPS_PATH)\n",
        "drivers_df.write.format(\"delta\").mode(\"overwrite\").save(DRIVERS_PATH)\n",
        "\n",
        "print(\"Seeded datasets:\")\n",
        "print(\"  Trips  ->\", TRIPS_PATH)\n",
        "print(\"  Drivers->\", DRIVERS_PATH)\n"
      ],
      "metadata": {
        "colab": {
          "base_uri": "https://localhost:8080/"
        },
        "id": "VGjn-WXlA9LX",
        "outputId": "071993d2-da9a-4891-820e-598bca2df496"
      },
      "execution_count": 4,
      "outputs": [
        {
          "output_type": "stream",
          "name": "stdout",
          "text": [
            "Seeded datasets:\n",
            "  Trips  -> /content/delta/ride_hailing/trips\n",
            "  Drivers-> /content/delta/ride_hailing/drivers\n"
          ]
        }
      ]
    },
    {
      "cell_type": "code",
      "source": [
        "# 1-Managed vs Unmanaged Tables\n",
        "# Managed table: trips_managed\n",
        "spark.sql(f\"\"\"\n",
        "    CREATE TABLE IF NOT EXISTS trips_managed\n",
        "    USING DELTA\n",
        "    AS SELECT * FROM delta.`{TRIPS_PATH}`\n",
        "\"\"\")\n",
        "\n",
        "# Unmanaged table: drivers_ext\n",
        "spark.sql(f\"\"\"\n",
        "    CREATE TABLE IF NOT EXISTS drivers_ext\n",
        "    USING DELTA\n",
        "    LOCATION '{DRIVERS_PATH}'\n",
        "\"\"\")\n",
        "\n",
        "print(\"Managed and Unmanaged tables created.\")\n",
        "\n",
        "# Verify locations\n",
        "print(\"\\n--- trips_managed detail ---\")\n",
        "spark.sql(\"DESCRIBE DETAIL trips_managed\").show(truncate=False)\n",
        "\n",
        "print(\"\\n--- drivers_ext detail ---\")\n",
        "spark.sql(\"DESCRIBE DETAIL drivers_ext\").show(truncate=False)\n"
      ],
      "metadata": {
        "colab": {
          "base_uri": "https://localhost:8080/"
        },
        "id": "IVU5x5IWBXlv",
        "outputId": "1237ce95-2652-4fe6-912e-304837f372d5"
      },
      "execution_count": 5,
      "outputs": [
        {
          "output_type": "stream",
          "name": "stdout",
          "text": [
            "Managed and Unmanaged tables created.\n",
            "\n",
            "--- trips_managed detail ---\n",
            "+------+------------------------------------+-----------------------------------+-----------+-------------------------------------------+-----------------------+-----------------------+----------------+--------+-----------+----------+----------------+----------------+------------------------+\n",
            "|format|id                                  |name                               |description|location                                   |createdAt              |lastModified           |partitionColumns|numFiles|sizeInBytes|properties|minReaderVersion|minWriterVersion|tableFeatures           |\n",
            "+------+------------------------------------+-----------------------------------+-----------+-------------------------------------------+-----------------------+-----------------------+----------------+--------+-----------+----------+----------------+----------------+------------------------+\n",
            "|delta |2c70921a-3d06-423f-8cf4-3987c64de186|spark_catalog.default.trips_managed|NULL       |file:/content/spark-warehouse/trips_managed|2025-08-14 10:04:18.258|2025-08-14 10:04:20.765|[]              |2       |4536       |{}        |1               |2               |[appendOnly, invariants]|\n",
            "+------+------------------------------------+-----------------------------------+-----------+-------------------------------------------+-----------------------+-----------------------+----------------+--------+-----------+----------+----------------+----------------+------------------------+\n",
            "\n",
            "\n",
            "--- drivers_ext detail ---\n",
            "+------+------------------------------------+---------------------------------+-----------+----------------------------------------+-----------------------+-----------------------+----------------+--------+-----------+----------+----------------+----------------+------------------------+\n",
            "|format|id                                  |name                             |description|location                                |createdAt              |lastModified           |partitionColumns|numFiles|sizeInBytes|properties|minReaderVersion|minWriterVersion|tableFeatures           |\n",
            "+------+------------------------------------+---------------------------------+-----------+----------------------------------------+-----------------------+-----------------------+----------------+--------+-----------+----------+----------------+----------------+------------------------+\n",
            "|delta |7880233f-f751-4b3b-acd9-1d0c17cc90f4|spark_catalog.default.drivers_ext|NULL       |file:/content/delta/ride_hailing/drivers|2025-08-14 09:58:43.716|2025-08-14 09:59:29.296|[]              |2       |2481       |{}        |1               |2               |[appendOnly, invariants]|\n",
            "+------+------------------------------------+---------------------------------+-----------+----------------------------------------+-----------------------+-----------------------+----------------+--------+-----------+----------+----------------+----------------+------------------------+\n",
            "\n"
          ]
        }
      ]
    },
    {
      "cell_type": "code",
      "source": [
        "# 2- Read & Explore\n",
        "from pyspark.sql import functions as F\n",
        "\n",
        "# 1 & 2 - Read both tables and show schema + sample data\n",
        "print(\"=== trips_managed ===\")\n",
        "trips_df = spark.table(\"trips_managed\")\n",
        "trips_df.printSchema()\n",
        "trips_df.show(10, truncate=False)\n",
        "\n",
        "print(\"=== drivers_ext ===\")\n",
        "drivers_df = spark.table(\"drivers_ext\")\n",
        "drivers_df.printSchema()\n",
        "drivers_df.show(10, truncate=False)\n",
        "\n",
        "# 3 - Derived column total_amount\n",
        "trips_with_total = trips_df.withColumn(\"total_amount\", F.col(\"fare\") + F.col(\"tip\"))\n",
        "\n",
        "# 4 - Top 5 trips by total_amount\n",
        "print(\"=== Top 5 trips by total_amount ===\")\n",
        "trips_with_total.orderBy(F.col(\"total_amount\").desc()).show(5, truncate=False)\n"
      ],
      "metadata": {
        "colab": {
          "base_uri": "https://localhost:8080/"
        },
        "id": "S6DYObQQBYP2",
        "outputId": "ebd578c5-6e04-4fc0-ce42-0e1aceb12e8a"
      },
      "execution_count": 6,
      "outputs": [
        {
          "output_type": "stream",
          "name": "stdout",
          "text": [
            "=== trips_managed ===\n",
            "root\n",
            " |-- trip_id: integer (nullable = true)\n",
            " |-- rider_id: string (nullable = true)\n",
            " |-- driver_id: string (nullable = true)\n",
            " |-- city: string (nullable = true)\n",
            " |-- distance_km: double (nullable = true)\n",
            " |-- fare: double (nullable = true)\n",
            " |-- tip: double (nullable = true)\n",
            " |-- ts: timestamp (nullable = true)\n",
            "\n",
            "+-------+--------+---------+---------+-----------+-----+----+-------------------+\n",
            "|trip_id|rider_id|driver_id|city     |distance_km|fare |tip |ts                 |\n",
            "+-------+--------+---------+---------+-----------+-----+----+-------------------+\n",
            "|1004   |R001    |D010     |Bengaluru|18.9       |480.0|25.0|2025-08-08 08:45:00|\n",
            "|1005   |R004    |D013     |Chennai  |10.0       |260.0|15.0|2025-08-08 09:05:00|\n",
            "|1006   |R005    |D012     |Pune     |2.2        |70.0 |0.0 |2025-08-08 09:10:00|\n",
            "|1001   |R001    |D010     |Bengaluru|12.4       |320.0|20.0|2025-08-08 08:05:00|\n",
            "|1002   |R002    |D011     |Hyderabad|6.2        |150.0|10.0|2025-08-08 08:15:00|\n",
            "|1003   |R003    |D012     |Pune     |3.5        |90.0 |0.0 |2025-08-08 08:20:00|\n",
            "+-------+--------+---------+---------+-----------+-----+----+-------------------+\n",
            "\n",
            "=== drivers_ext ===\n",
            "root\n",
            " |-- driver_id: string (nullable = true)\n",
            " |-- driver_name: string (nullable = true)\n",
            " |-- rating: double (nullable = true)\n",
            " |-- vehicle: string (nullable = true)\n",
            "\n",
            "+---------+-----------+------+-------+\n",
            "|driver_id|driver_name|rating|vehicle|\n",
            "+---------+-----------+------+-------+\n",
            "|D012     |Rakesh     |4.4   |Swift  |\n",
            "|D013     |Meera      |4.9   |Ciaz   |\n",
            "|D010     |Anil       |4.8   |WagonR |\n",
            "|D011     |Sana       |4.6   |i20    |\n",
            "+---------+-----------+------+-------+\n",
            "\n",
            "=== Top 5 trips by total_amount ===\n",
            "+-------+--------+---------+---------+-----------+-----+----+-------------------+------------+\n",
            "|trip_id|rider_id|driver_id|city     |distance_km|fare |tip |ts                 |total_amount|\n",
            "+-------+--------+---------+---------+-----------+-----+----+-------------------+------------+\n",
            "|1004   |R001    |D010     |Bengaluru|18.9       |480.0|25.0|2025-08-08 08:45:00|505.0       |\n",
            "|1001   |R001    |D010     |Bengaluru|12.4       |320.0|20.0|2025-08-08 08:05:00|340.0       |\n",
            "|1005   |R004    |D013     |Chennai  |10.0       |260.0|15.0|2025-08-08 09:05:00|275.0       |\n",
            "|1002   |R002    |D011     |Hyderabad|6.2        |150.0|10.0|2025-08-08 08:15:00|160.0       |\n",
            "|1003   |R003    |D012     |Pune     |3.5        |90.0 |0.0 |2025-08-08 08:20:00|90.0        |\n",
            "+-------+--------+---------+---------+-----------+-----+----+-------------------+------------+\n",
            "only showing top 5 rows\n",
            "\n"
          ]
        }
      ]
    },
    {
      "cell_type": "code",
      "source": [
        "# 3-Update (Business Rule)\n",
        "# Before update - only affected rows\n",
        "print(\"=== Before update ===\")\n",
        "spark.sql(\"\"\"\n",
        "    SELECT *\n",
        "    FROM trips_managed\n",
        "    WHERE city = 'Bengaluru' AND distance_km > 15\n",
        "\"\"\").show()\n",
        "\n",
        "# Perform update\n",
        "spark.sql(\"\"\"\n",
        "    UPDATE trips_managed\n",
        "    SET tip = tip + 5\n",
        "    WHERE city = 'Bengaluru' AND distance_km > 15\n",
        "\"\"\")\n",
        "\n",
        "# After update - only affected rows\n",
        "print(\"=== After update ===\")\n",
        "spark.sql(\"\"\"\n",
        "    SELECT *\n",
        "    FROM trips_managed\n",
        "    WHERE city = 'Bengaluru' AND distance_km > 15\n",
        "\"\"\").show()\n"
      ],
      "metadata": {
        "colab": {
          "base_uri": "https://localhost:8080/"
        },
        "id": "H04MW0EZC952",
        "outputId": "13024acd-8c79-4b30-8342-47711cdda86d"
      },
      "execution_count": 7,
      "outputs": [
        {
          "output_type": "stream",
          "name": "stdout",
          "text": [
            "=== Before update ===\n",
            "+-------+--------+---------+---------+-----------+-----+----+-------------------+\n",
            "|trip_id|rider_id|driver_id|     city|distance_km| fare| tip|                 ts|\n",
            "+-------+--------+---------+---------+-----------+-----+----+-------------------+\n",
            "|   1004|    R001|     D010|Bengaluru|       18.9|480.0|25.0|2025-08-08 08:45:00|\n",
            "+-------+--------+---------+---------+-----------+-----+----+-------------------+\n",
            "\n",
            "=== After update ===\n",
            "+-------+--------+---------+---------+-----------+-----+----+-------------------+\n",
            "|trip_id|rider_id|driver_id|     city|distance_km| fare| tip|                 ts|\n",
            "+-------+--------+---------+---------+-----------+-----+----+-------------------+\n",
            "|   1004|    R001|     D010|Bengaluru|       18.9|480.0|30.0|2025-08-08 08:45:00|\n",
            "+-------+--------+---------+---------+-----------+-----+----+-------------------+\n",
            "\n"
          ]
        }
      ]
    },
    {
      "cell_type": "code",
      "source": [
        "#4-Delete (Data Quality)\n",
        "spark.sql(\"\"\"\n",
        "    DELETE FROM trips_managed\n",
        "    WHERE fare <= 0 OR distance_km <= 0\n",
        "\"\"\")\n",
        "\n",
        "# Show remaining row count\n",
        "remaining_count = spark.sql(\"SELECT COUNT(*) AS cnt FROM trips_managed\").collect()[0][\"cnt\"]\n",
        "print(f\"Remaining trips after delete: {remaining_count}\")"
      ],
      "metadata": {
        "colab": {
          "base_uri": "https://localhost:8080/"
        },
        "id": "1YUtGKMYC-xk",
        "outputId": "f95593f8-36ee-46fd-c5cc-0e782b23c067"
      },
      "execution_count": 8,
      "outputs": [
        {
          "output_type": "stream",
          "name": "stdout",
          "text": [
            "Remaining trips after delete: 6\n"
          ]
        }
      ]
    },
    {
      "cell_type": "code",
      "source": [
        "#5-Merge (Upsert New Batch)\n",
        "from datetime import datetime\n",
        "\n",
        "# New batch data\n",
        "merge_rows = [\n",
        "    (1004,\"R001\",\"D010\",\"Bengaluru\", 18.9, 500.0, 30.0, datetime(2025,8,8,8,45,0)),  # updated fare & tip\n",
        "    (1007,\"R006\",\"D011\",\"Hyderabad\",  7.0, 180.0, 12.0, datetime(2025,8,8,10,0,0))   # new trip\n",
        "]\n",
        "\n",
        "merge_schema = spark.table(\"trips_managed\").schema\n",
        "merge_df = spark.createDataFrame(merge_rows, schema=merge_schema)\n",
        "\n",
        "# Save new batch to temp Delta path\n",
        "temp_merge_path = \"/content/delta/ride_hailing/new_batch\"\n",
        "merge_df.write.format(\"delta\").mode(\"overwrite\").save(temp_merge_path)\n",
        "\n",
        "# Create temp table for merge\n",
        "spark.sql(f\"\"\"\n",
        "    CREATE TABLE IF NOT EXISTS new_batch\n",
        "    USING DELTA\n",
        "    LOCATION '{temp_merge_path}'\n",
        "\"\"\")\n",
        "\n",
        "# Perform MERGE\n",
        "spark.sql(\"\"\"\n",
        "    MERGE INTO trips_managed AS target\n",
        "    USING new_batch AS source\n",
        "    ON target.trip_id = source.trip_id\n",
        "    WHEN MATCHED THEN UPDATE SET *\n",
        "    WHEN NOT MATCHED THEN INSERT *\n",
        "\"\"\")\n",
        "\n",
        "print(\"Merge completed.\")\n",
        "\n",
        "# Showing rows\n",
        "spark.sql(\"\"\"\n",
        "    SELECT * FROM trips_managed\n",
        "    WHERE trip_id IN (1004, 1007)\n",
        "\"\"\").show()\n"
      ],
      "metadata": {
        "colab": {
          "base_uri": "https://localhost:8080/"
        },
        "id": "f4YCDyaREA-j",
        "outputId": "ca4609d9-6599-4be7-8828-9a2149d0c5ba"
      },
      "execution_count": 9,
      "outputs": [
        {
          "output_type": "stream",
          "name": "stdout",
          "text": [
            "Merge completed.\n",
            "+-------+--------+---------+---------+-----------+-----+----+-------------------+\n",
            "|trip_id|rider_id|driver_id|     city|distance_km| fare| tip|                 ts|\n",
            "+-------+--------+---------+---------+-----------+-----+----+-------------------+\n",
            "|   1004|    R001|     D010|Bengaluru|       18.9|500.0|30.0|2025-08-08 08:45:00|\n",
            "|   1007|    R006|     D011|Hyderabad|        7.0|180.0|12.0|2025-08-08 10:00:00|\n",
            "+-------+--------+---------+---------+-----------+-----+----+-------------------+\n",
            "\n"
          ]
        }
      ]
    },
    {
      "cell_type": "code",
      "source": [
        "#6- Gold View (Join & KPIs)\n",
        "from pyspark.sql import functions as F\n",
        "\n",
        "# Read the latest trips and drivers tables\n",
        "trips_df = spark.table(\"trips_managed\")\n",
        "drivers_df = spark.table(\"drivers_ext\")\n",
        "\n",
        "# Add total_amount column\n",
        "trips_with_total = trips_df.withColumn(\"total_amount\", F.col(\"fare\") + F.col(\"tip\"))\n",
        "\n",
        "# Join trips with drivers on driver_id\n",
        "gold_df = trips_with_total.join(drivers_df, on=\"driver_id\", how=\"inner\") \\\n",
        "    .select(\n",
        "        \"trip_id\", \"city\", \"driver_name\", \"rating\",\n",
        "        \"distance_km\", \"total_amount\", \"ts\"\n",
        "    )\n",
        "\n",
        "# Create a temporary gold view\n",
        "gold_df.createOrReplaceTempView(\"gold_view\")\n",
        "\n",
        "print(\"=== Gold View Sample ===\")\n",
        "gold_df.show(truncate=False)\n",
        "\n",
        "# City-wise total revenue & average driver rating\n",
        "city_kpi = spark.sql(\"\"\"\n",
        "    SELECT city,\n",
        "           ROUND(SUM(total_amount), 2) AS total_revenue,\n",
        "           ROUND(AVG(rating), 2) AS avg_driver_rating\n",
        "    FROM gold_view\n",
        "    GROUP BY city\n",
        "    ORDER BY total_revenue DESC\n",
        "\"\"\")\n",
        "print(\"=== City-wise Revenue & Avg Driver Rating ===\")\n",
        "city_kpi.show()\n",
        "\n",
        "# Driver-wise total trips\n",
        "driver_kpi = spark.sql(\"\"\"\n",
        "    SELECT driver_name,\n",
        "           COUNT(*) AS total_trips,\n",
        "           ROUND(SUM(total_amount), 2) AS total_revenue\n",
        "    FROM gold_view\n",
        "    GROUP BY driver_name\n",
        "    ORDER BY total_trips DESC\n",
        "\"\"\")\n",
        "print(\"=== Driver-wise Total Trips ===\")\n",
        "driver_kpi.show()\n",
        "\n",
        "# Top 3 drivers by revenue\n",
        "top3_drivers = driver_kpi.orderBy(F.col(\"total_revenue\").desc()).limit(3)\n",
        "print(\"=== Top 3 Drivers by Revenue ===\")\n",
        "top3_drivers.show()\n"
      ],
      "metadata": {
        "colab": {
          "base_uri": "https://localhost:8080/"
        },
        "id": "54WcfQDaFvkh",
        "outputId": "51e6696e-17a7-4d4b-fff3-014570cc1003"
      },
      "execution_count": 10,
      "outputs": [
        {
          "output_type": "stream",
          "name": "stdout",
          "text": [
            "=== Gold View Sample ===\n",
            "+-------+---------+-----------+------+-----------+------------+-------------------+\n",
            "|trip_id|city     |driver_name|rating|distance_km|total_amount|ts                 |\n",
            "+-------+---------+-----------+------+-----------+------------+-------------------+\n",
            "|1004   |Bengaluru|Anil       |4.8   |18.9       |530.0       |2025-08-08 08:45:00|\n",
            "|1005   |Chennai  |Meera      |4.9   |10.0       |275.0       |2025-08-08 09:05:00|\n",
            "|1006   |Pune     |Rakesh     |4.4   |2.2        |70.0        |2025-08-08 09:10:00|\n",
            "|1007   |Hyderabad|Sana       |4.6   |7.0        |192.0       |2025-08-08 10:00:00|\n",
            "|1001   |Bengaluru|Anil       |4.8   |12.4       |340.0       |2025-08-08 08:05:00|\n",
            "|1002   |Hyderabad|Sana       |4.6   |6.2        |160.0       |2025-08-08 08:15:00|\n",
            "|1003   |Pune     |Rakesh     |4.4   |3.5        |90.0        |2025-08-08 08:20:00|\n",
            "+-------+---------+-----------+------+-----------+------------+-------------------+\n",
            "\n",
            "=== City-wise Revenue & Avg Driver Rating ===\n",
            "+---------+-------------+-----------------+\n",
            "|     city|total_revenue|avg_driver_rating|\n",
            "+---------+-------------+-----------------+\n",
            "|Bengaluru|        870.0|              4.8|\n",
            "|Hyderabad|        352.0|              4.6|\n",
            "|  Chennai|        275.0|              4.9|\n",
            "|     Pune|        160.0|              4.4|\n",
            "+---------+-------------+-----------------+\n",
            "\n",
            "=== Driver-wise Total Trips ===\n",
            "+-----------+-----------+-------------+\n",
            "|driver_name|total_trips|total_revenue|\n",
            "+-----------+-----------+-------------+\n",
            "|     Rakesh|          2|        160.0|\n",
            "|       Sana|          2|        352.0|\n",
            "|       Anil|          2|        870.0|\n",
            "|      Meera|          1|        275.0|\n",
            "+-----------+-----------+-------------+\n",
            "\n",
            "=== Top 3 Drivers by Revenue ===\n",
            "+-----------+-----------+-------------+\n",
            "|driver_name|total_trips|total_revenue|\n",
            "+-----------+-----------+-------------+\n",
            "|       Anil|          2|        870.0|\n",
            "|       Sana|          2|        352.0|\n",
            "|      Meera|          1|        275.0|\n",
            "+-----------+-----------+-------------+\n",
            "\n"
          ]
        }
      ]
    },
    {
      "cell_type": "code",
      "source": [
        "# 7- Time Travel & History\n",
        "from pyspark.sql import functions as F\n",
        "\n",
        "#Show DESCRIBE HISTORY for trips_managed\n",
        "print(\"=== DESCRIBE HISTORY for trips_managed ===\")\n",
        "spark.sql(\"DESCRIBE HISTORY trips_managed\").show(truncate=False)\n",
        "\n",
        "#Read the table as of version 0\n",
        "trips_v0 = spark.read.format(\"delta\").option(\"versionAsOf\", 0).table(\"trips_managed\")\n",
        "\n",
        "print(\"\\n=== trips_managed at Version 0 ===\")\n",
        "trips_v0.show()\n",
        "\n",
        "#Read the latest version of the table\n",
        "trips_latest = spark.table(\"trips_managed\")\n",
        "\n",
        "print(\"\\n=== trips_managed at Latest Version ===\")\n",
        "trips_latest.show()\n",
        "\n",
        "# 4. Compare counts\n",
        "print(f\"\\nRow count at Version 0: {trips_v0.count()}\")\n",
        "print(f\"Row count at Latest Version: {trips_latest.count()}\")\n"
      ],
      "metadata": {
        "colab": {
          "base_uri": "https://localhost:8080/"
        },
        "id": "sCuBMYuWHGvm",
        "outputId": "223508a6-87f6-47f1-c81b-34675c800157"
      },
      "execution_count": 11,
      "outputs": [
        {
          "output_type": "stream",
          "name": "stdout",
          "text": [
            "=== DESCRIBE HISTORY for trips_managed ===\n",
            "+-------+-----------------------+------+--------+----------------------+---------------------------------------------------------------------------------------------------------------------------------------------------------------------------------------+----+--------+---------+-----------+--------------+-------------+--------------------------------------------------------------------------------------------------------------------------------------------------------------------------------------------------------------------------------------------------------------------------------------------------------------------------------------------------------------------------------------------------------------------------------------------------------------------------------------------------------------------------------------------------------------------------------------------------------------------------------------------------------+------------+-----------------------------------+\n",
            "|version|timestamp              |userId|userName|operation             |operationParameters                                                                                                                                                                    |job |notebook|clusterId|readVersion|isolationLevel|isBlindAppend|operationMetrics                                                                                                                                                                                                                                                                                                                                                                                                                                                                                                                                                                                                                                        |userMetadata|engineInfo                         |\n",
            "+-------+-----------------------+------+--------+----------------------+---------------------------------------------------------------------------------------------------------------------------------------------------------------------------------------+----+--------+---------+-----------+--------------+-------------+--------------------------------------------------------------------------------------------------------------------------------------------------------------------------------------------------------------------------------------------------------------------------------------------------------------------------------------------------------------------------------------------------------------------------------------------------------------------------------------------------------------------------------------------------------------------------------------------------------------------------------------------------------+------------+-----------------------------------+\n",
            "|2      |2025-08-14 10:18:37.312|NULL  |NULL    |MERGE                 |{predicate -> [\"(trip_id#8775 = trip_id#8783)\"], matchedPredicates -> [{\"actionType\":\"update\"}], notMatchedPredicates -> [{\"actionType\":\"insert\"}], notMatchedBySourcePredicates -> []}|NULL|NULL    |NULL     |1          |Serializable  |false        |{numTargetRowsCopied -> 2, numTargetRowsDeleted -> 0, numTargetFilesAdded -> 1, numTargetBytesAdded -> 2321, numTargetBytesRemoved -> 2268, numTargetDeletionVectorsAdded -> 0, numTargetRowsMatchedUpdated -> 1, executionTimeMs -> 6517, numTargetRowsInserted -> 1, numTargetRowsMatchedDeleted -> 0, numTargetDeletionVectorsUpdated -> 0, scanTimeMs -> 3802, numTargetRowsUpdated -> 1, numOutputRows -> 4, numTargetDeletionVectorsRemoved -> 0, numTargetRowsNotMatchedBySourceUpdated -> 0, numTargetChangeFilesAdded -> 0, numSourceRows -> 2, numTargetFilesRemoved -> 1, numTargetRowsNotMatchedBySourceDeleted -> 0, rewriteTimeMs -> 2695}|NULL        |Apache-Spark/3.5.0 Delta-Lake/3.1.0|\n",
            "|1      |2025-08-14 10:08:18.978|NULL  |NULL    |UPDATE                |{predicate -> [\"((city#6157 = Bengaluru) AND (distance_km#6158 > 15.0))\"]}                                                                                                             |NULL|NULL    |NULL     |0          |Serializable  |false        |{numRemovedFiles -> 1, numRemovedBytes -> 2268, numCopiedRows -> 2, numDeletionVectorsAdded -> 0, numDeletionVectorsRemoved -> 0, numAddedChangeFiles -> 0, executionTimeMs -> 3292, numDeletionVectorsUpdated -> 0, scanTimeMs -> 2744, numAddedFiles -> 1, numUpdatedRows -> 1, numAddedBytes -> 2268, rewriteTimeMs -> 545}                                                                                                                                                                                                                                                                                                                          |NULL        |Apache-Spark/3.5.0 Delta-Lake/3.1.0|\n",
            "|0      |2025-08-14 10:04:20.765|NULL  |NULL    |CREATE TABLE AS SELECT|{isManaged -> true, description -> NULL, partitionBy -> [], properties -> {}}                                                                                                          |NULL|NULL    |NULL     |NULL       |Serializable  |true         |{numFiles -> 2, numOutputRows -> 6, numOutputBytes -> 4536}                                                                                                                                                                                                                                                                                                                                                                                                                                                                                                                                                                                             |NULL        |Apache-Spark/3.5.0 Delta-Lake/3.1.0|\n",
            "+-------+-----------------------+------+--------+----------------------+---------------------------------------------------------------------------------------------------------------------------------------------------------------------------------------+----+--------+---------+-----------+--------------+-------------+--------------------------------------------------------------------------------------------------------------------------------------------------------------------------------------------------------------------------------------------------------------------------------------------------------------------------------------------------------------------------------------------------------------------------------------------------------------------------------------------------------------------------------------------------------------------------------------------------------------------------------------------------------+------------+-----------------------------------+\n",
            "\n",
            "\n",
            "=== trips_managed at Version 0 ===\n",
            "+-------+--------+---------+---------+-----------+-----+----+-------------------+\n",
            "|trip_id|rider_id|driver_id|     city|distance_km| fare| tip|                 ts|\n",
            "+-------+--------+---------+---------+-----------+-----+----+-------------------+\n",
            "|   1004|    R001|     D010|Bengaluru|       18.9|480.0|25.0|2025-08-08 08:45:00|\n",
            "|   1005|    R004|     D013|  Chennai|       10.0|260.0|15.0|2025-08-08 09:05:00|\n",
            "|   1006|    R005|     D012|     Pune|        2.2| 70.0| 0.0|2025-08-08 09:10:00|\n",
            "|   1001|    R001|     D010|Bengaluru|       12.4|320.0|20.0|2025-08-08 08:05:00|\n",
            "|   1002|    R002|     D011|Hyderabad|        6.2|150.0|10.0|2025-08-08 08:15:00|\n",
            "|   1003|    R003|     D012|     Pune|        3.5| 90.0| 0.0|2025-08-08 08:20:00|\n",
            "+-------+--------+---------+---------+-----------+-----+----+-------------------+\n",
            "\n",
            "\n",
            "=== trips_managed at Latest Version ===\n",
            "+-------+--------+---------+---------+-----------+-----+----+-------------------+\n",
            "|trip_id|rider_id|driver_id|     city|distance_km| fare| tip|                 ts|\n",
            "+-------+--------+---------+---------+-----------+-----+----+-------------------+\n",
            "|   1004|    R001|     D010|Bengaluru|       18.9|500.0|30.0|2025-08-08 08:45:00|\n",
            "|   1005|    R004|     D013|  Chennai|       10.0|260.0|15.0|2025-08-08 09:05:00|\n",
            "|   1006|    R005|     D012|     Pune|        2.2| 70.0| 0.0|2025-08-08 09:10:00|\n",
            "|   1007|    R006|     D011|Hyderabad|        7.0|180.0|12.0|2025-08-08 10:00:00|\n",
            "|   1001|    R001|     D010|Bengaluru|       12.4|320.0|20.0|2025-08-08 08:05:00|\n",
            "|   1002|    R002|     D011|Hyderabad|        6.2|150.0|10.0|2025-08-08 08:15:00|\n",
            "|   1003|    R003|     D012|     Pune|        3.5| 90.0| 0.0|2025-08-08 08:20:00|\n",
            "+-------+--------+---------+---------+-----------+-----+----+-------------------+\n",
            "\n",
            "\n",
            "Row count at Version 0: 6\n",
            "Row count at Latest Version: 7\n"
          ]
        }
      ]
    },
    {
      "cell_type": "code",
      "source": [
        "#8-Partitioned Rewrite (Performance)\n",
        "import time\n",
        "import os\n",
        "\n",
        "# Define new path for partitioned table\n",
        "PARTITIONED_TRIPS_PATH = \"/content/delta/ride_hailing/trips_partitioned\"\n",
        "\n",
        "# 1. Rewrite the trips table partitioned by city\n",
        "spark.table(\"trips_managed\") \\\n",
        "    .write.format(\"delta\") \\\n",
        "    .mode(\"overwrite\") \\\n",
        "    .partitionBy(\"city\") \\\n",
        "    .save(PARTITIONED_TRIPS_PATH)\n",
        "\n",
        "print(f\"Partitioned trips table saved at: {PARTITIONED_TRIPS_PATH}\")\n",
        "\n",
        "# 2.Compare file layout\n",
        "print(\"\\n=== Files in partitioned trips table ===\")\n",
        "for root, dirs, files in os.walk(PARTITIONED_TRIPS_PATH):\n",
        "    for file in files:\n",
        "        print(os.path.join(root, file))\n",
        "\n",
        "# 3. Read and filter city='Bengaluru' to observe read behavior/time\n",
        "start_time = time.time()\n",
        "bengaluru_df = spark.read.format(\"delta\").load(PARTITIONED_TRIPS_PATH) \\\n",
        "    .filter(F.col(\"city\") == \"Bengaluru\")\n",
        "bengaluru_df.show()\n",
        "end_time = time.time()\n",
        "\n",
        "print(f\"\\nFilter query time (partitioned): {end_time - start_time:.4f} seconds\")\n"
      ],
      "metadata": {
        "colab": {
          "base_uri": "https://localhost:8080/"
        },
        "id": "XrLEDP3kHkOv",
        "outputId": "021e1f76-6b03-4296-8ab3-db3ac9bf66e8"
      },
      "execution_count": 12,
      "outputs": [
        {
          "output_type": "stream",
          "name": "stdout",
          "text": [
            "Partitioned trips table saved at: /content/delta/ride_hailing/trips_partitioned\n",
            "\n",
            "=== Files in partitioned trips table ===\n",
            "/content/delta/ride_hailing/trips_partitioned/_delta_log/.00000000000000000000.json.crc\n",
            "/content/delta/ride_hailing/trips_partitioned/_delta_log/00000000000000000000.json\n",
            "/content/delta/ride_hailing/trips_partitioned/city=Chennai/part-00000-80cf80fd-065e-4fdb-86e3-693662615f60.c000.snappy.parquet\n",
            "/content/delta/ride_hailing/trips_partitioned/city=Chennai/.part-00000-80cf80fd-065e-4fdb-86e3-693662615f60.c000.snappy.parquet.crc\n",
            "/content/delta/ride_hailing/trips_partitioned/city=Hyderabad/part-00001-9deb4d77-3e1d-4364-8f45-abec952854af.c000.snappy.parquet\n",
            "/content/delta/ride_hailing/trips_partitioned/city=Hyderabad/part-00000-31307d9f-e22f-470a-af04-8110f9368fd9.c000.snappy.parquet\n",
            "/content/delta/ride_hailing/trips_partitioned/city=Hyderabad/.part-00000-31307d9f-e22f-470a-af04-8110f9368fd9.c000.snappy.parquet.crc\n",
            "/content/delta/ride_hailing/trips_partitioned/city=Hyderabad/.part-00001-9deb4d77-3e1d-4364-8f45-abec952854af.c000.snappy.parquet.crc\n",
            "/content/delta/ride_hailing/trips_partitioned/city=Bengaluru/.part-00001-bb07d482-a8bd-4976-8bdc-60959880cadf.c000.snappy.parquet.crc\n",
            "/content/delta/ride_hailing/trips_partitioned/city=Bengaluru/part-00001-bb07d482-a8bd-4976-8bdc-60959880cadf.c000.snappy.parquet\n",
            "/content/delta/ride_hailing/trips_partitioned/city=Bengaluru/part-00000-4d81117a-0f1f-42b5-9af7-bea6afd728c3.c000.snappy.parquet\n",
            "/content/delta/ride_hailing/trips_partitioned/city=Bengaluru/.part-00000-4d81117a-0f1f-42b5-9af7-bea6afd728c3.c000.snappy.parquet.crc\n",
            "/content/delta/ride_hailing/trips_partitioned/city=Pune/part-00000-77100d34-374b-4baa-b9d2-c3ba4642b28a.c000.snappy.parquet\n",
            "/content/delta/ride_hailing/trips_partitioned/city=Pune/part-00001-0ea41f43-3de4-4bb5-b2a0-ff9b0f2550ae.c000.snappy.parquet\n",
            "/content/delta/ride_hailing/trips_partitioned/city=Pune/.part-00001-0ea41f43-3de4-4bb5-b2a0-ff9b0f2550ae.c000.snappy.parquet.crc\n",
            "/content/delta/ride_hailing/trips_partitioned/city=Pune/.part-00000-77100d34-374b-4baa-b9d2-c3ba4642b28a.c000.snappy.parquet.crc\n",
            "+-------+--------+---------+---------+-----------+-----+----+-------------------+\n",
            "|trip_id|rider_id|driver_id|     city|distance_km| fare| tip|                 ts|\n",
            "+-------+--------+---------+---------+-----------+-----+----+-------------------+\n",
            "|   1004|    R001|     D010|Bengaluru|       18.9|500.0|30.0|2025-08-08 08:45:00|\n",
            "|   1001|    R001|     D010|Bengaluru|       12.4|320.0|20.0|2025-08-08 08:05:00|\n",
            "+-------+--------+---------+---------+-----------+-----+----+-------------------+\n",
            "\n",
            "\n",
            "Filter query time (partitioned): 2.7740 seconds\n"
          ]
        }
      ]
    },
    {
      "cell_type": "code",
      "source": [
        "#9-Incremental Load Simulation\n",
        "# Create small incremental batch (1008–1009, new city Mumbai)\n",
        "incremental_rows = [\n",
        "    (1008, \"R006\", \"D010\", \"Mumbai\", 15.0, 400.0, 30.0, datetime(2025, 8, 9, 10, 0, 0)),\n",
        "    (1009, \"R007\", \"D011\", \"Mumbai\",  8.0, 200.0, 20.0, datetime(2025, 8, 9, 10, 30, 0))\n",
        "]\n",
        "\n",
        "incremental_df = spark.createDataFrame(incremental_rows, schema=trips_df.schema)\n",
        "\n",
        "# Append to trips_managed table\n",
        "incremental_df.write.format(\"delta\").mode(\"append\").saveAsTable(\"trips_managed\")\n",
        "\n",
        "print(\"Incremental data appended successfully.\")\n",
        "\n",
        "# Re-run city-wise revenue (fare + tip) only\n",
        "city_revenue = spark.table(\"trips_managed\") \\\n",
        "    .withColumn(\"total_amount\", F.col(\"fare\") + F.col(\"tip\")) \\\n",
        "    .groupBy(\"city\") \\\n",
        "    .agg(F.round(F.sum(\"total_amount\"), 2).alias(\"total_revenue\")) \\\n",
        "    .orderBy(F.col(\"total_revenue\").desc())\n",
        "\n",
        "print(\"=== Updated City-wise Revenue ===\")\n",
        "city_revenue.show()\n"
      ],
      "metadata": {
        "colab": {
          "base_uri": "https://localhost:8080/"
        },
        "id": "d2mnJkEEJgRj",
        "outputId": "9ee89c52-4e44-4556-f800-bf8b1389c05d"
      },
      "execution_count": 13,
      "outputs": [
        {
          "output_type": "stream",
          "name": "stdout",
          "text": [
            "Incremental data appended successfully.\n",
            "=== Updated City-wise Revenue ===\n",
            "+---------+-------------+\n",
            "|     city|total_revenue|\n",
            "+---------+-------------+\n",
            "|Bengaluru|        870.0|\n",
            "|   Mumbai|        650.0|\n",
            "|Hyderabad|        352.0|\n",
            "|  Chennai|        275.0|\n",
            "|     Pune|        160.0|\n",
            "+---------+-------------+\n",
            "\n"
          ]
        }
      ]
    },
    {
      "cell_type": "code",
      "source": [
        "#10-Simple Streaming (File Stream → Console)\n",
        "from pyspark.sql import functions as F\n",
        "from datetime import datetime\n",
        "\n",
        "# 1. Start a structured stream that reads Delta from TRIPS_PATH in readStream mode\n",
        "stream_df = spark.readStream.format(\"delta\").load(TRIPS_PATH)\n",
        "\n",
        "query = stream_df.writeStream \\\n",
        "    .format(\"console\") \\\n",
        "    .outputMode(\"append\") \\\n",
        "    .trigger(processingTime=\"5 seconds\") \\\n",
        "    .start()\n",
        "\n",
        "print(\"Streaming started... appending a new row in a moment.\")\n",
        "\n",
        "# 2. Append another tiny batch while the stream runs (one more Mumbai trip)\n",
        "new_trip = [\n",
        "    (1010, \"R008\", \"D012\", \"Mumbai\", 12.0, 300.0, 25.0, datetime(2025, 8, 9, 11, 0, 0))\n",
        "]\n",
        "\n",
        "new_trip_df = spark.createDataFrame(new_trip, schema=trips_df.schema)\n",
        "new_trip_df.write.format(\"delta\").mode(\"append\").save(TRIPS_PATH)\n",
        "\n",
        "print(\"New Mumbai trip appended.\")"
      ],
      "metadata": {
        "colab": {
          "base_uri": "https://localhost:8080/"
        },
        "id": "F1qmrqOGKHoS",
        "outputId": "5167e48d-8ad4-4117-9245-9bfcaea12a67"
      },
      "execution_count": 14,
      "outputs": [
        {
          "output_type": "stream",
          "name": "stdout",
          "text": [
            "Streaming started... appending a new row in a moment.\n",
            "New Mumbai trip appended.\n"
          ]
        }
      ]
    },
    {
      "cell_type": "code",
      "source": [
        "#11-Visualization\n",
        "import matplotlib.pyplot as plt\n",
        "\n",
        "# 1. City-wise total revenue (from Gold View)\n",
        "city_revenue_df = spark.sql(\"\"\"\n",
        "    SELECT city,\n",
        "           ROUND(SUM(total_amount), 2) AS total_revenue\n",
        "    FROM gold_view\n",
        "    GROUP BY city\n",
        "    ORDER BY total_revenue DESC\n",
        "\"\"\")\n",
        "\n",
        "# Convert to Pandas for plotting\n",
        "city_revenue_pd = city_revenue_df.toPandas()\n",
        "\n",
        "# Plot bar chart\n",
        "plt.figure(figsize=(8, 5))\n",
        "plt.bar(city_revenue_pd['city'], city_revenue_pd['total_revenue'], color='skyblue')\n",
        "plt.title(\"City vs Total Revenue\")\n",
        "plt.xlabel(\"City\")\n",
        "plt.ylabel(\"Total Revenue\")\n",
        "plt.xticks(rotation=45)\n",
        "plt.show()\n",
        "\n",
        "# 2. Hourly revenue\n",
        "hourly_revenue_df = spark.sql(\"\"\"\n",
        "    SELECT HOUR(ts) AS hour,\n",
        "           ROUND(SUM(total_amount), 2) AS total_revenue\n",
        "    FROM gold_view\n",
        "    GROUP BY HOUR(ts)\n",
        "    ORDER BY hour\n",
        "\"\"\")\n",
        "\n",
        "hourly_revenue_pd = hourly_revenue_df.toPandas()\n",
        "\n",
        "# Plot line chart\n",
        "plt.figure(figsize=(8, 5))\n",
        "plt.plot(hourly_revenue_pd['hour'], hourly_revenue_pd['total_revenue'], marker='o', color='orange')\n",
        "plt.title(\"Hourly Revenue\")\n",
        "plt.xlabel(\"Hour of Day\")\n",
        "plt.ylabel(\"Total Revenue\")\n",
        "plt.grid(True)\n",
        "plt.show()\n"
      ],
      "metadata": {
        "colab": {
          "base_uri": "https://localhost:8080/",
          "height": 1000
        },
        "id": "Y7FKWkbeKtvV",
        "outputId": "e5f3ecf4-2ab9-4c15-8243-72a4850af578"
      },
      "execution_count": 15,
      "outputs": [
        {
          "output_type": "display_data",
          "data": {
            "text/plain": [
              "<Figure size 800x500 with 1 Axes>"
            ],
            "image/png": "[encoded data removed]"
          },
          "metadata": {}
        },
        {
          "output_type": "display_data",
          "data": {
            "text/plain": [
              "<Figure size 800x500 with 1 Axes>"
            ],
            "image/png": "[encoded data removed]"
          },
          "metadata": {}
        }
      ]
    },
    {
      "cell_type": "code",
      "source": [
        "#12-Managed vs Unmanaged Cleanup\n",
        "import os\n",
        "\n",
        "# 1. Drop the managed table\n",
        "spark.sql(\"DROP TABLE IF EXISTS trips_managed\")\n",
        "print(\"Dropped managed table: trips_managed\")\n",
        "\n",
        "# 2. Drop the unmanaged table\n",
        "spark.sql(\"DROP TABLE IF EXISTS drivers_ext\")\n",
        "print(\"Dropped unmanaged table: drivers_ext\")\n",
        "\n",
        "# 3. Verify managed table data is removed\n",
        "print(\"\\n=== Checking managed table data path ===\")\n",
        "try:\n",
        "    spark.table(\"trips_managed\").show()\n",
        "except Exception as e:\n",
        "    print(\"Managed table data removed:\", e)\n",
        "\n",
        "# 4. Verify unmanaged table data still exists\n",
        "print(\"\\n=== Checking unmanaged table path ===\")\n",
        "if os.path.exists(DRIVERS_PATH):\n",
        "    print(\"Unmanaged table data still exists at:\", DRIVERS_PATH)\n",
        "    print(\"Files:\", os.listdir(DRIVERS_PATH))\n",
        "else:\n",
        "    print(\"Unmanaged table path not found.\")\n"
      ],
      "metadata": {
        "colab": {
          "base_uri": "https://localhost:8080/"
        },
        "id": "y547gHk7LVTu",
        "outputId": "32dc13ff-8c4c-4d07-f849-37a9755350eb"
      },
      "execution_count": 16,
      "outputs": [
        {
          "output_type": "stream",
          "name": "stdout",
          "text": [
            "Dropped managed table: trips_managed\n",
            "Dropped unmanaged table: drivers_ext\n",
            "\n",
            "=== Checking managed table data path ===\n",
            "Managed table data removed: [TABLE_OR_VIEW_NOT_FOUND] The table or view `trips_managed` cannot be found. Verify the spelling and correctness of the schema and catalog.\n",
            "If you did not qualify the name with a schema, verify the current_schema() output, or qualify the name with the correct schema and catalog.\n",
            "To tolerate the error on drop use DROP VIEW IF EXISTS or DROP TABLE IF EXISTS.;\n",
            "'UnresolvedRelation [trips_managed], [], false\n",
            "\n",
            "\n",
            "=== Checking unmanaged table path ===\n",
            "Unmanaged table data still exists at: /content/delta/ride_hailing/drivers\n",
            "Files: ['_delta_log', 'part-00001-00a0bb15-844c-4629-984e-9826a7874dbb-c000.snappy.parquet', 'part-00001-d1d519ab-7367-4a73-b55b-093a22c39e73-c000.snappy.parquet', 'part-00000-74e833d7-367f-4de8-98ec-2f768143bd39-c000.snappy.parquet', 'part-00000-5129b6bb-174b-4f4f-a426-13ad9801e155-c000.snappy.parquet', '.part-00001-d1d519ab-7367-4a73-b55b-093a22c39e73-c000.snappy.parquet.crc', '.part-00000-74e833d7-367f-4de8-98ec-2f768143bd39-c000.snappy.parquet.crc', '.part-00001-00a0bb15-844c-4629-984e-9826a7874dbb-c000.snappy.parquet.crc', '.part-00000-5129b6bb-174b-4f4f-a426-13ad9801e155-c000.snappy.parquet.crc']\n"
          ]
        }
      ]
    },
    {
      "cell_type": "code",
      "source": [
        "#13- Constraint/Quality Check (Optional)\n",
        "from datetime import datetime\n",
        "\n",
        "# Bad data example: tip < 0\n",
        "bad_data = [\n",
        "    (2001, \"R999\", \"D010\", \"Bengaluru\", 10.0, 250.0, -5.0, datetime(2025, 8, 10, 10, 0, 0))\n",
        "]\n",
        "bad_df = spark.createDataFrame(bad_data, schema=trip_schema)\n",
        "\n",
        "print(\"=== Attempt to write bad data (tip < 0) ===\")\n",
        "\n",
        "# Simulate constraint: reject if tip < 0\n",
        "if bad_df.filter(F.col(\"tip\") < 0).count() > 0:\n",
        "    print(\"Bad data rejected: tip < 0 not allowed.\")\n",
        "else:\n",
        "    bad_df.write.format(\"delta\").mode(\"append\").save(TRIPS_PATH)\n",
        "    print(\"Data written successfully.\")\n"
      ],
      "metadata": {
        "colab": {
          "base_uri": "https://localhost:8080/"
        },
        "id": "93XSxtyrL72a",
        "outputId": "c1cba428-f983-4a5f-cd28-411e0669ab1e"
      },
      "execution_count": 17,
      "outputs": [
        {
          "output_type": "stream",
          "name": "stdout",
          "text": [
            "=== Attempt to write bad data (tip < 0) ===\n",
            "Bad data rejected: tip < 0 not allowed.\n"
          ]
        }
      ]
    }
  ]
}