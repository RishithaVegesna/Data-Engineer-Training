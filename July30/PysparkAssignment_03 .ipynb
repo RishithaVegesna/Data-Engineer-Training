{
  "nbformat": 4,
  "nbformat_minor": 0,
  "metadata": {
    "colab": {
      "provenance": []
    },
    "kernelspec": {
      "name": "python3",
      "display_name": "Python 3"
    },
    "language_info": {
      "name": "python"
    }
  },
  "cells": [
    {
      "cell_type": "code",
      "source": [
        "import findspark\n",
        "findspark.init()\n",
        "\n",
        "from pyspark.sql import SparkSession\n",
        "spark = SparkSession.builder.appName(\"MyPySparkAssignment\").getOrCreate()\n",
        "\n",
        "spark\n"
      ],
      "metadata": {
        "colab": {
          "base_uri": "https://localhost:8080/",
          "height": 219
        },
        "id": "wygAIClwNAZC",
        "outputId": "fa1b5fb5-8281-44a0-88ae-94b19525b50d"
      },
      "execution_count": 8,
      "outputs": [
        {
          "output_type": "execute_result",
          "data": {
            "text/plain": [
              "<pyspark.sql.session.SparkSession at 0x786000358450>"
            ],
            "text/html": [
              "\n",
              "            <div>\n",
              "                <p><b>SparkSession - in-memory</b></p>\n",
              "                \n",
              "        <div>\n",
              "            <p><b>SparkContext</b></p>\n",
              "\n",
              "            <p><a href=\"http://74f1fa6f90ba:4040\">Spark UI</a></p>\n",
              "\n",
              "            <dl>\n",
              "              <dt>Version</dt>\n",
              "                <dd><code>v3.1.1</code></dd>\n",
              "              <dt>Master</dt>\n",
              "                <dd><code>local[*]</code></dd>\n",
              "              <dt>AppName</dt>\n",
              "                <dd><code>MyPySparkAssignment</code></dd>\n",
              "            </dl>\n",
              "        </div>\n",
              "        \n",
              "            </div>\n",
              "        "
            ]
          },
          "metadata": {},
          "execution_count": 8
        }
      ]
    },
    {
      "cell_type": "code",
      "source": [
        "# Step 1: Create the sales.csv file\n",
        "\n",
        "data = \"\"\"OrderID,Product,Category,Quantity,UnitPrice,Region\n",
        "1001,Mobile,Electronics,2,15000,North\n",
        "1002,Laptop,Electronics,1,55000,South\n",
        "1003,T-Shirt,Apparel,3,500,East\n",
        "1004,Jeans,Apparel,2,1200,North\n",
        "1005,TV,Electronics,1,40000,West\n",
        "1006,Shoes,Footwear,4,2000,South\n",
        "1007,Watch,Accessories,2,3000,East\n",
        "1008,Headphones,Electronics,3,2500,North\"\"\"\n",
        "\n",
        "\n",
        "with open(\"/content/sales.csv\", \"w\") as f:\n",
        "    f.write(data)\n",
        "\n"
      ],
      "metadata": {
        "id": "OrWQrsMwNkeu"
      },
      "execution_count": 9,
      "outputs": []
    },
    {
      "cell_type": "code",
      "source": [
        "# Step 2: Load CSV into PySpark DataFrame\n",
        "\n",
        "df = spark.read.csv(\"/content/sales.csv\", header=True, inferSchema=True)\n",
        "\n",
        "# Show structure and first 5 rows\n",
        "df.printSchema()\n",
        "df.show(5)\n"
      ],
      "metadata": {
        "colab": {
          "base_uri": "https://localhost:8080/"
        },
        "id": "am_xwjSANsCT",
        "outputId": "49d07619-e1b5-476f-99af-0844dcd4a758"
      },
      "execution_count": 10,
      "outputs": [
        {
          "output_type": "stream",
          "name": "stdout",
          "text": [
            "root\n",
            " |-- OrderID: integer (nullable = true)\n",
            " |-- Product: string (nullable = true)\n",
            " |-- Category: string (nullable = true)\n",
            " |-- Quantity: integer (nullable = true)\n",
            " |-- UnitPrice: integer (nullable = true)\n",
            " |-- Region: string (nullable = true)\n",
            "\n",
            "+-------+-------+-----------+--------+---------+------+\n",
            "|OrderID|Product|   Category|Quantity|UnitPrice|Region|\n",
            "+-------+-------+-----------+--------+---------+------+\n",
            "|   1001| Mobile|Electronics|       2|    15000| North|\n",
            "|   1002| Laptop|Electronics|       1|    55000| South|\n",
            "|   1003|T-Shirt|    Apparel|       3|      500|  East|\n",
            "|   1004|  Jeans|    Apparel|       2|     1200| North|\n",
            "|   1005|     TV|Electronics|       1|    40000|  West|\n",
            "+-------+-------+-----------+--------+---------+------+\n",
            "only showing top 5 rows\n",
            "\n"
          ]
        }
      ]
    },
    {
      "cell_type": "code",
      "source": [
        "from pyspark.sql.functions import col, expr\n",
        "\n",
        "# Add Revenue column\n",
        "df = df.withColumn(\"Revenue\", col(\"Quantity\") * col(\"UnitPrice\"))\n",
        "\n",
        "# Show updated DataFrame\n",
        "df.select(\"OrderID\", \"Product\", \"Quantity\", \"UnitPrice\", \"Revenue\").show()\n"
      ],
      "metadata": {
        "colab": {
          "base_uri": "https://localhost:8080/"
        },
        "id": "HdtvYBQrNv4m",
        "outputId": "88b9b3e2-a6ba-491b-f9ae-34f9e44b76bc"
      },
      "execution_count": 11,
      "outputs": [
        {
          "output_type": "stream",
          "name": "stdout",
          "text": [
            "+-------+----------+--------+---------+-------+\n",
            "|OrderID|   Product|Quantity|UnitPrice|Revenue|\n",
            "+-------+----------+--------+---------+-------+\n",
            "|   1001|    Mobile|       2|    15000|  30000|\n",
            "|   1002|    Laptop|       1|    55000|  55000|\n",
            "|   1003|   T-Shirt|       3|      500|   1500|\n",
            "|   1004|     Jeans|       2|     1200|   2400|\n",
            "|   1005|        TV|       1|    40000|  40000|\n",
            "|   1006|     Shoes|       4|     2000|   8000|\n",
            "|   1007|     Watch|       2|     3000|   6000|\n",
            "|   1008|Headphones|       3|     2500|   7500|\n",
            "+-------+----------+--------+---------+-------+\n",
            "\n"
          ]
        }
      ]
    },
    {
      "cell_type": "code",
      "source": [
        "# Group by Product and sum Revenue\n",
        "product_sales = df.groupBy(\"Product\").sum(\"Revenue\").withColumnRenamed(\"sum(Revenue)\", \"TotalRevenue\")\n",
        "\n",
        "# Sort in descending order\n",
        "product_sales.orderBy(col(\"TotalRevenue\").desc()).show()\n"
      ],
      "metadata": {
        "colab": {
          "base_uri": "https://localhost:8080/"
        },
        "id": "3YO9qBgdN4v3",
        "outputId": "0dd41323-27fe-4be6-d59f-bb35a5a81782"
      },
      "execution_count": 12,
      "outputs": [
        {
          "output_type": "stream",
          "name": "stdout",
          "text": [
            "+----------+------------+\n",
            "|   Product|TotalRevenue|\n",
            "+----------+------------+\n",
            "|    Laptop|       55000|\n",
            "|        TV|       40000|\n",
            "|    Mobile|       30000|\n",
            "|     Shoes|        8000|\n",
            "|Headphones|        7500|\n",
            "|     Watch|        6000|\n",
            "|     Jeans|        2400|\n",
            "|   T-Shirt|        1500|\n",
            "+----------+------------+\n",
            "\n"
          ]
        }
      ]
    },
    {
      "cell_type": "code",
      "source": [
        "# Group by Product and sum Quantity\n",
        "most_sold = df.groupBy(\"Product\").sum(\"Quantity\").withColumnRenamed(\"sum(Quantity)\", \"TotalQuantity\")\n",
        "\n",
        "# Show the most sold product\n",
        "most_sold.orderBy(col(\"TotalQuantity\").desc()).show(1)\n"
      ],
      "metadata": {
        "colab": {
          "base_uri": "https://localhost:8080/"
        },
        "id": "hCaRrBr0N9aR",
        "outputId": "6e7a0269-b632-4d01-e50d-1568d5a6a9a5"
      },
      "execution_count": 13,
      "outputs": [
        {
          "output_type": "stream",
          "name": "stdout",
          "text": [
            "+-------+-------------+\n",
            "|Product|TotalQuantity|\n",
            "+-------+-------------+\n",
            "|  Shoes|            4|\n",
            "+-------+-------------+\n",
            "only showing top 1 row\n",
            "\n"
          ]
        }
      ]
    },
    {
      "cell_type": "code",
      "source": [
        "# Group by Category and calculate total revenue\n",
        "category_sales = df.groupBy(\"Category\").sum(\"Revenue\").withColumnRenamed(\"sum(Revenue)\", \"TotalRevenue\")\n",
        "\n",
        "category_sales.orderBy(col(\"TotalRevenue\").desc()).show()\n"
      ],
      "metadata": {
        "colab": {
          "base_uri": "https://localhost:8080/"
        },
        "id": "zvQFWdceOAnh",
        "outputId": "cd17d7f6-75e6-4962-fa0b-b2ed4045594e"
      },
      "execution_count": 14,
      "outputs": [
        {
          "output_type": "stream",
          "name": "stdout",
          "text": [
            "+-----------+------------+\n",
            "|   Category|TotalRevenue|\n",
            "+-----------+------------+\n",
            "|Electronics|      132500|\n",
            "|   Footwear|        8000|\n",
            "|Accessories|        6000|\n",
            "|    Apparel|        3900|\n",
            "+-----------+------------+\n",
            "\n"
          ]
        }
      ]
    },
    {
      "cell_type": "code",
      "source": [
        "# Group by Region and calculate total revenue\n",
        "region_sales = df.groupBy(\"Region\").sum(\"Revenue\").withColumnRenamed(\"sum(Revenue)\", \"TotalRevenue\")\n",
        "\n",
        "region_sales.orderBy(col(\"TotalRevenue\").desc()).show()\n"
      ],
      "metadata": {
        "colab": {
          "base_uri": "https://localhost:8080/"
        },
        "id": "ThTNu4KcOEA2",
        "outputId": "38dfc8a8-04e8-4d8f-8b0d-86c899fcd484"
      },
      "execution_count": 15,
      "outputs": [
        {
          "output_type": "stream",
          "name": "stdout",
          "text": [
            "+------+------------+\n",
            "|Region|TotalRevenue|\n",
            "+------+------------+\n",
            "| South|       63000|\n",
            "|  West|       40000|\n",
            "| North|       39900|\n",
            "|  East|        7500|\n",
            "+------+------------+\n",
            "\n"
          ]
        }
      ]
    }
  ]
}