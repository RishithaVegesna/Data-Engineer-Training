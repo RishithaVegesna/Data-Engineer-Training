{
  "nbformat": 4,
  "nbformat_minor": 0,
  "metadata": {
    "colab": {
      "provenance": []
    },
    "kernelspec": {
      "name": "python3",
      "display_name": "Python 3"
    },
    "language_info": {
      "name": "python"
    }
  },
  "cells": [
    {
      "cell_type": "code",
      "execution_count": 1,
      "metadata": {
        "id": "nyQdbxtE1jlq"
      },
      "outputs": [],
      "source": [
        "# Step 1: Import required libraries\n",
        "import pandas as pd\n",
        "import numpy as np"
      ]
    },
    {
      "cell_type": "code",
      "source": [
        "# Step 2: Create Week 1 Product Data (from SQL)\n",
        "products_data = {\n",
        "    'ProductID': [1, 2, 3, 4, 5, 6],\n",
        "    'ProductName': ['Laptop', 'Mobile Phone', 'Shoes', 'T-Shirt', 'Smart Watch', 'Bluetooth Speaker'],\n",
        "    'Category': ['Electronics', 'Electronics', 'Footwear', 'Clothing', 'Electronics', 'Electronics'],\n",
        "    'Price': [55000.0, 25000.0, 2000.0, 800.0, 5000.0, 1500.0],\n",
        "    'Stock': [30, 50, 100, 70, 40, 25]\n",
        "}\n",
        "products_df = pd.DataFrame(products_data)\n",
        "\n",
        "# Step 3: Create Week 1 Sales Data (from SQL)\n",
        "sales_data = {\n",
        "    'SaleID': [301, 302, 303, 304, 305, 306, 307],\n",
        "    'ProductID': [1, 2, 3, 5, 4, 2, 6],\n",
        "    'StoreID': [101, 102, 103, 102, 101, 104, 105],\n",
        "    'QuantitySold': [3, 5, 2, 6, 4, 7, 5],\n",
        "    'SaleDate': pd.to_datetime(['2024-07-01', '2024-07-02', '2024-07-02', '2024-07-03', '2024-07-03', '2024-07-04', '2024-07-04'])\n",
        "}\n",
        "sales_df = pd.DataFrame(sales_data)"
      ],
      "metadata": {
        "id": "EkFz0yQw1wVs"
      },
      "execution_count": 2,
      "outputs": []
    },
    {
      "cell_type": "code",
      "source": [
        "# Step 4: Merge sales and product data\n",
        "merged_df = pd.merge(sales_df, products_df, on='ProductID', how='left')"
      ],
      "metadata": {
        "id": "_Caqsy8H13Fr"
      },
      "execution_count": 3,
      "outputs": []
    },
    {
      "cell_type": "code",
      "source": [
        "# Step 5: Data Cleanup (check and handle nulls)\n",
        "print(\"🔍 Missing Values:\\n\", merged_df.isnull().sum())"
      ],
      "metadata": {
        "colab": {
          "base_uri": "https://localhost:8080/"
        },
        "id": "irugyIVO2BJu",
        "outputId": "d7112e96-94a5-4f71-f61f-7433a4f2aa55"
      },
      "execution_count": 4,
      "outputs": [
        {
          "output_type": "stream",
          "name": "stdout",
          "text": [
            "🔍 Missing Values:\n",
            " SaleID          0\n",
            "ProductID       0\n",
            "StoreID         0\n",
            "QuantitySold    0\n",
            "SaleDate        0\n",
            "ProductName     0\n",
            "Category        0\n",
            "Price           0\n",
            "Stock           0\n",
            "dtype: int64\n"
          ]
        }
      ]
    },
    {
      "cell_type": "code",
      "source": [
        "# Step 6: Calculate Revenue, Cost, and Profit\n",
        "merged_df['Revenue'] = merged_df['QuantitySold'] * merged_df['Price']\n",
        "merged_df['Cost'] = merged_df['Price'] * 0.80  # Assuming cost = 80% of price\n",
        "merged_df['Profit'] = merged_df['Revenue'] - (merged_df['Cost'] * merged_df['QuantitySold'])"
      ],
      "metadata": {
        "id": "sst5tcV22HJd"
      },
      "execution_count": 5,
      "outputs": []
    },
    {
      "cell_type": "code",
      "source": [
        "# Step 7: Summary Metrics\n",
        "store_summary = merged_df.groupby('StoreID')[['Revenue', 'Profit']].sum()\n",
        "print(\"\\n Revenue & Profit by Store:\\n\", store_summary)"
      ],
      "metadata": {
        "colab": {
          "base_uri": "https://localhost:8080/"
        },
        "id": "kZlp0Esc2Kao",
        "outputId": "5d2a8414-724c-44ac-f6fc-70fc66f1f826"
      },
      "execution_count": 6,
      "outputs": [
        {
          "output_type": "stream",
          "name": "stdout",
          "text": [
            "\n",
            " Revenue & Profit by Store:\n",
            "           Revenue   Profit\n",
            "StoreID                   \n",
            "101      168200.0  33640.0\n",
            "102      155000.0  31000.0\n",
            "103        4000.0    800.0\n",
            "104      175000.0  35000.0\n",
            "105        7500.0   1500.0\n"
          ]
        }
      ]
    },
    {
      "cell_type": "code",
      "source": [
        "# Step 8: Export Cleaned Dataset\n",
        "merged_df.to_csv('cleaned_sales_data.csv', index=False)"
      ],
      "metadata": {
        "id": "ViMCUtOE2ROr"
      },
      "execution_count": 7,
      "outputs": []
    },
    {
      "cell_type": "code",
      "source": [
        "from google.colab import files\n",
        "files.download('cleaned_sales_data.csv')\n"
      ],
      "metadata": {
        "colab": {
          "base_uri": "https://localhost:8080/",
          "height": 17
        },
        "id": "v1yA_XJw20UL",
        "outputId": "199e0376-595b-47db-c813-c453a2661634"
      },
      "execution_count": 8,
      "outputs": [
        {
          "output_type": "display_data",
          "data": {
            "text/plain": [
              "<IPython.core.display.Javascript object>"
            ],
            "application/javascript": [
              "\n",
              "    async function download(id, filename, size) {\n",
              "      if (!google.colab.kernel.accessAllowed) {\n",
              "        return;\n",
              "      }\n",
              "      const div = document.createElement('div');\n",
              "      const label = document.createElement('label');\n",
              "      label.textContent = `Downloading \"${filename}\": `;\n",
              "      div.appendChild(label);\n",
              "      const progress = document.createElement('progress');\n",
              "      progress.max = size;\n",
              "      div.appendChild(progress);\n",
              "      document.body.appendChild(div);\n",
              "\n",
              "      const buffers = [];\n",
              "      let downloaded = 0;\n",
              "\n",
              "      const channel = await google.colab.kernel.comms.open(id);\n",
              "      // Send a message to notify the kernel that we're ready.\n",
              "      channel.send({})\n",
              "\n",
              "      for await (const message of channel.messages) {\n",
              "        // Send a message to notify the kernel that we're ready.\n",
              "        channel.send({})\n",
              "        if (message.buffers) {\n",
              "          for (const buffer of message.buffers) {\n",
              "            buffers.push(buffer);\n",
              "            downloaded += buffer.byteLength;\n",
              "            progress.value = downloaded;\n",
              "          }\n",
              "        }\n",
              "      }\n",
              "      const blob = new Blob(buffers, {type: 'application/binary'});\n",
              "      const a = document.createElement('a');\n",
              "      a.href = window.URL.createObjectURL(blob);\n",
              "      a.download = filename;\n",
              "      div.appendChild(a);\n",
              "      a.click();\n",
              "      div.remove();\n",
              "    }\n",
              "  "
            ]
          },
          "metadata": {}
        },
        {
          "output_type": "display_data",
          "data": {
            "text/plain": [
              "<IPython.core.display.Javascript object>"
            ],
            "application/javascript": [
              "download(\"download_5fc84ebf-6f12-4643-a317-d60e35228612\", \"cleaned_sales_data.csv\", 646)"
            ]
          },
          "metadata": {}
        }
      ]
    }
  ]
}