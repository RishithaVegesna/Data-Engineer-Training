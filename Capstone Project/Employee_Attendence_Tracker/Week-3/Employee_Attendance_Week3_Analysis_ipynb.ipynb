{
  "nbformat": 4,
  "nbformat_minor": 0,
  "metadata": {
    "colab": {
      "provenance": []
    },
    "kernelspec": {
      "name": "python3",
      "display_name": "Python 3"
    },
    "language_info": {
      "name": "python"
    }
  },
  "cells": [
    {
      "cell_type": "code",
      "source": [
        "from google.colab import files\n",
        "uploaded = files.upload()\n"
      ],
      "metadata": {
        "colab": {
          "base_uri": "https://localhost:8080/",
          "height": 73
        },
        "id": "NvADNPwIE77C",
        "outputId": "57136681-5d73-4a68-e3a0-20d132daf422"
      },
      "execution_count": 1,
      "outputs": [
        {
          "output_type": "display_data",
          "data": {
            "text/plain": [
              "<IPython.core.display.HTML object>"
            ],
            "text/html": [
              "\n",
              "     <input type=\"file\" id=\"files-9aa37d59-221d-434d-bf80-e6d59a309bc1\" name=\"files[]\" multiple disabled\n",
              "        style=\"border:none\" />\n",
              "     <output id=\"result-9aa37d59-221d-434d-bf80-e6d59a309bc1\">\n",
              "      Upload widget is only available when the cell has been executed in the\n",
              "      current browser session. Please rerun this cell to enable.\n",
              "      </output>\n",
              "      <script>// Copyright 2017 Google LLC\n",
              "//\n",
              "// Licensed under the Apache License, Version 2.0 (the \"License\");\n",
              "// you may not use this file except in compliance with the License.\n",
              "// You may obtain a copy of the License at\n",
              "//\n",
              "//      http://www.apache.org/licenses/LICENSE-2.0\n",
              "//\n",
              "// Unless required by applicable law or agreed to in writing, software\n",
              "// distributed under the License is distributed on an \"AS IS\" BASIS,\n",
              "// WITHOUT WARRANTIES OR CONDITIONS OF ANY KIND, either express or implied.\n",
              "// See the License for the specific language governing permissions and\n",
              "// limitations under the License.\n",
              "\n",
              "/**\n",
              " * @fileoverview Helpers for google.colab Python module.\n",
              " */\n",
              "(function(scope) {\n",
              "function span(text, styleAttributes = {}) {\n",
              "  const element = document.createElement('span');\n",
              "  element.textContent = text;\n",
              "  for (const key of Object.keys(styleAttributes)) {\n",
              "    element.style[key] = styleAttributes[key];\n",
              "  }\n",
              "  return element;\n",
              "}\n",
              "\n",
              "// Max number of bytes which will be uploaded at a time.\n",
              "const MAX_PAYLOAD_SIZE = 100 * 1024;\n",
              "\n",
              "function _uploadFiles(inputId, outputId) {\n",
              "  const steps = uploadFilesStep(inputId, outputId);\n",
              "  const outputElement = document.getElementById(outputId);\n",
              "  // Cache steps on the outputElement to make it available for the next call\n",
              "  // to uploadFilesContinue from Python.\n",
              "  outputElement.steps = steps;\n",
              "\n",
              "  return _uploadFilesContinue(outputId);\n",
              "}\n",
              "\n",
              "// This is roughly an async generator (not supported in the browser yet),\n",
              "// where there are multiple asynchronous steps and the Python side is going\n",
              "// to poll for completion of each step.\n",
              "// This uses a Promise to block the python side on completion of each step,\n",
              "// then passes the result of the previous step as the input to the next step.\n",
              "function _uploadFilesContinue(outputId) {\n",
              "  const outputElement = document.getElementById(outputId);\n",
              "  const steps = outputElement.steps;\n",
              "\n",
              "  const next = steps.next(outputElement.lastPromiseValue);\n",
              "  return Promise.resolve(next.value.promise).then((value) => {\n",
              "    // Cache the last promise value to make it available to the next\n",
              "    // step of the generator.\n",
              "    outputElement.lastPromiseValue = value;\n",
              "    return next.value.response;\n",
              "  });\n",
              "}\n",
              "\n",
              "/**\n",
              " * Generator function which is called between each async step of the upload\n",
              " * process.\n",
              " * @param {string} inputId Element ID of the input file picker element.\n",
              " * @param {string} outputId Element ID of the output display.\n",
              " * @return {!Iterable<!Object>} Iterable of next steps.\n",
              " */\n",
              "function* uploadFilesStep(inputId, outputId) {\n",
              "  const inputElement = document.getElementById(inputId);\n",
              "  inputElement.disabled = false;\n",
              "\n",
              "  const outputElement = document.getElementById(outputId);\n",
              "  outputElement.innerHTML = '';\n",
              "\n",
              "  const pickedPromise = new Promise((resolve) => {\n",
              "    inputElement.addEventListener('change', (e) => {\n",
              "      resolve(e.target.files);\n",
              "    });\n",
              "  });\n",
              "\n",
              "  const cancel = document.createElement('button');\n",
              "  inputElement.parentElement.appendChild(cancel);\n",
              "  cancel.textContent = 'Cancel upload';\n",
              "  const cancelPromise = new Promise((resolve) => {\n",
              "    cancel.onclick = () => {\n",
              "      resolve(null);\n",
              "    };\n",
              "  });\n",
              "\n",
              "  // Wait for the user to pick the files.\n",
              "  const files = yield {\n",
              "    promise: Promise.race([pickedPromise, cancelPromise]),\n",
              "    response: {\n",
              "      action: 'starting',\n",
              "    }\n",
              "  };\n",
              "\n",
              "  cancel.remove();\n",
              "\n",
              "  // Disable the input element since further picks are not allowed.\n",
              "  inputElement.disabled = true;\n",
              "\n",
              "  if (!files) {\n",
              "    return {\n",
              "      response: {\n",
              "        action: 'complete',\n",
              "      }\n",
              "    };\n",
              "  }\n",
              "\n",
              "  for (const file of files) {\n",
              "    const li = document.createElement('li');\n",
              "    li.append(span(file.name, {fontWeight: 'bold'}));\n",
              "    li.append(span(\n",
              "        `(${file.type || 'n/a'}) - ${file.size} bytes, ` +\n",
              "        `last modified: ${\n",
              "            file.lastModifiedDate ? file.lastModifiedDate.toLocaleDateString() :\n",
              "                                    'n/a'} - `));\n",
              "    const percent = span('0% done');\n",
              "    li.appendChild(percent);\n",
              "\n",
              "    outputElement.appendChild(li);\n",
              "\n",
              "    const fileDataPromise = new Promise((resolve) => {\n",
              "      const reader = new FileReader();\n",
              "      reader.onload = (e) => {\n",
              "        resolve(e.target.result);\n",
              "      };\n",
              "      reader.readAsArrayBuffer(file);\n",
              "    });\n",
              "    // Wait for the data to be ready.\n",
              "    let fileData = yield {\n",
              "      promise: fileDataPromise,\n",
              "      response: {\n",
              "        action: 'continue',\n",
              "      }\n",
              "    };\n",
              "\n",
              "    // Use a chunked sending to avoid message size limits. See b/62115660.\n",
              "    let position = 0;\n",
              "    do {\n",
              "      const length = Math.min(fileData.byteLength - position, MAX_PAYLOAD_SIZE);\n",
              "      const chunk = new Uint8Array(fileData, position, length);\n",
              "      position += length;\n",
              "\n",
              "      const base64 = btoa(String.fromCharCode.apply(null, chunk));\n",
              "      yield {\n",
              "        response: {\n",
              "          action: 'append',\n",
              "          file: file.name,\n",
              "          data: base64,\n",
              "        },\n",
              "      };\n",
              "\n",
              "      let percentDone = fileData.byteLength === 0 ?\n",
              "          100 :\n",
              "          Math.round((position / fileData.byteLength) * 100);\n",
              "      percent.textContent = `${percentDone}% done`;\n",
              "\n",
              "    } while (position < fileData.byteLength);\n",
              "  }\n",
              "\n",
              "  // All done.\n",
              "  yield {\n",
              "    response: {\n",
              "      action: 'complete',\n",
              "    }\n",
              "  };\n",
              "}\n",
              "\n",
              "scope.google = scope.google || {};\n",
              "scope.google.colab = scope.google.colab || {};\n",
              "scope.google.colab._files = {\n",
              "  _uploadFiles,\n",
              "  _uploadFilesContinue,\n",
              "};\n",
              "})(self);\n",
              "</script> "
            ]
          },
          "metadata": {}
        },
        {
          "output_type": "stream",
          "name": "stdout",
          "text": [
            "Saving cleaned_attendance.csv to cleaned_attendance.csv\n"
          ]
        }
      ]
    },
    {
      "cell_type": "code",
      "execution_count": 3,
      "metadata": {
        "colab": {
          "base_uri": "https://localhost:8080/"
        },
        "id": "EB0GYXIuEJOv",
        "outputId": "7bac4e37-d3f0-4d41-8ee4-6a1bb68697be"
      },
      "outputs": [
        {
          "output_type": "stream",
          "name": "stdout",
          "text": [
            "+-----------+----------+-------------------+-------------------+-------------------+-------------------+-----------------+--------+---------------+---------------+-------------------+\n",
            "|employee_id|      date|           clock_in|          clock_out|      clock_in_full|     clock_out_full|       work_hours|    name|department_name|tasks_completed| productivity_score|\n",
            "+-----------+----------+-------------------+-------------------+-------------------+-------------------+-----------------+--------+---------------+---------------+-------------------+\n",
            "|          1|2025-07-20|2025-08-01 09:00:00|2025-08-01 17:00:00|2025-07-20 09:00:00|2025-07-20 17:00:00|              8.0|Rishitha|             HR|              1|              0.125|\n",
            "|          1|2025-07-21|2025-08-01 09:15:00|2025-08-01 17:05:00|2025-07-21 09:15:00|2025-07-21 17:05:00|7.833333333333333|Rishitha|             HR|              1|0.12765957446808512|\n",
            "|          2|2025-07-21|2025-08-01 09:30:00|2025-08-01 16:50:00|2025-07-21 09:30:00|2025-07-21 16:50:00|7.333333333333333|    Anil|             IT|              1|0.13636363636363638|\n",
            "|          3|2025-07-21|2025-08-01 10:00:00|2025-08-01 17:00:00|2025-07-21 10:00:00|2025-07-21 17:00:00|              7.0|   Sneha|          Sales|              1|0.14285714285714285|\n",
            "|          4|2025-07-21|2025-08-01 09:00:00|2025-08-01 17:00:00|2025-07-21 09:00:00|2025-07-21 17:00:00|              8.0| Karthik|             IT|              1|              0.125|\n",
            "+-----------+----------+-------------------+-------------------+-------------------+-------------------+-----------------+--------+---------------+---------------+-------------------+\n",
            "only showing top 5 rows\n",
            "\n",
            "root\n",
            " |-- employee_id: integer (nullable = true)\n",
            " |-- date: date (nullable = true)\n",
            " |-- clock_in: timestamp (nullable = true)\n",
            " |-- clock_out: timestamp (nullable = true)\n",
            " |-- clock_in_full: timestamp (nullable = true)\n",
            " |-- clock_out_full: timestamp (nullable = true)\n",
            " |-- work_hours: double (nullable = true)\n",
            " |-- name: string (nullable = true)\n",
            " |-- department_name: string (nullable = true)\n",
            " |-- tasks_completed: integer (nullable = true)\n",
            " |-- productivity_score: double (nullable = true)\n",
            "\n"
          ]
        }
      ],
      "source": [
        "from pyspark.sql import SparkSession\n",
        "spark=SparkSession.builder.appName('Week3_Attendence_Analysis').getOrCreate()\n",
        "attendence_df=spark.read.csv(\"/content/cleaned_attendance.csv\", header=True, inferSchema=True)\n",
        "attendence_df.show(5)\n",
        "attendence_df.printSchema()"
      ]
    },
    {
      "cell_type": "code",
      "source": [
        "from pyspark.sql.functions import to_timestamp, col, round, unix_timestamp\n",
        "# 1. Converting login_time and logout_time to timestamp type\n",
        "attendence_df=attendence_df.withColumn(\"clock_in\", to_timestamp(col(\"clock_in\"), \"yyyy-MM-dd HH:mm:ss\"))\n",
        "attendence_df=attendence_df.withColumn(\"clock_out\",to_timestamp(col(\"clock_out\"),\"yyyy-MM-dd HH:mm:ss\"))\n",
        "# 2. Calculating work hours in decimal format\n",
        "attendence_df=attendence_df.withColumn(\"work_hours\",round((unix_timestamp(\"clock_out\")-unix_timestamp(\"clock_in\"))/3600,2))\n",
        "#Showing Results\n",
        "attendence_df.select(\"employee_id\", \"clock_in\", \"clock_out\", \"work_hours\").show(5)"
      ],
      "metadata": {
        "colab": {
          "base_uri": "https://localhost:8080/"
        },
        "id": "NrT2LexvKH07",
        "outputId": "d8a91a44-9ab1-41ec-99ae-f229781498b8"
      },
      "execution_count": 5,
      "outputs": [
        {
          "output_type": "stream",
          "name": "stdout",
          "text": [
            "+-----------+-------------------+-------------------+----------+\n",
            "|employee_id|           clock_in|          clock_out|work_hours|\n",
            "+-----------+-------------------+-------------------+----------+\n",
            "|          1|2025-08-01 09:00:00|2025-08-01 17:00:00|       8.0|\n",
            "|          1|2025-08-01 09:15:00|2025-08-01 17:05:00|      7.83|\n",
            "|          2|2025-08-01 09:30:00|2025-08-01 16:50:00|      7.33|\n",
            "|          3|2025-08-01 10:00:00|2025-08-01 17:00:00|       7.0|\n",
            "|          4|2025-08-01 09:00:00|2025-08-01 17:00:00|       8.0|\n",
            "+-----------+-------------------+-------------------+----------+\n",
            "only showing top 5 rows\n",
            "\n"
          ]
        }
      ]
    },
    {
      "cell_type": "code",
      "source": [
        "#Filter for late logins\n",
        "from pyspark.sql.functions import hour\n",
        "#Filter rows where login_time hour is greater than 10\n",
        "late_logins_df=attendence_df.filter(hour(\"clock_in\")>10)\n",
        "late_logins_df.select(\"employee_id\", \"clock_in\", \"department_name\").show(5)"
      ],
      "metadata": {
        "colab": {
          "base_uri": "https://localhost:8080/"
        },
        "id": "QHB0rD_OL0GQ",
        "outputId": "df1ec119-7023-4822-db9b-9b7d77c6f118"
      },
      "execution_count": 7,
      "outputs": [
        {
          "output_type": "stream",
          "name": "stdout",
          "text": [
            "+-----------+--------+---------------+\n",
            "|employee_id|clock_in|department_name|\n",
            "+-----------+--------+---------------+\n",
            "+-----------+--------+---------------+\n",
            "\n"
          ]
        }
      ]
    },
    {
      "cell_type": "code",
      "source": [
        "attendence_df.printSchema()\n",
        "attendence_df.select(\"employee_id\", \"clock_in\").show(10)"
      ],
      "metadata": {
        "colab": {
          "base_uri": "https://localhost:8080/"
        },
        "id": "JpwUvDGuNZS-",
        "outputId": "0a1ddae6-f769-4ade-825b-99770bd49e90"
      },
      "execution_count": 9,
      "outputs": [
        {
          "output_type": "stream",
          "name": "stdout",
          "text": [
            "root\n",
            " |-- employee_id: integer (nullable = true)\n",
            " |-- date: date (nullable = true)\n",
            " |-- clock_in: timestamp (nullable = true)\n",
            " |-- clock_out: timestamp (nullable = true)\n",
            " |-- clock_in_full: timestamp (nullable = true)\n",
            " |-- clock_out_full: timestamp (nullable = true)\n",
            " |-- work_hours: double (nullable = true)\n",
            " |-- name: string (nullable = true)\n",
            " |-- department_name: string (nullable = true)\n",
            " |-- tasks_completed: integer (nullable = true)\n",
            " |-- productivity_score: double (nullable = true)\n",
            "\n",
            "+-----------+-------------------+\n",
            "|employee_id|           clock_in|\n",
            "+-----------+-------------------+\n",
            "|          1|2025-08-01 09:00:00|\n",
            "|          1|2025-08-01 09:15:00|\n",
            "|          2|2025-08-01 09:30:00|\n",
            "|          3|2025-08-01 10:00:00|\n",
            "|          4|2025-08-01 09:00:00|\n",
            "|          5|2025-08-01 09:10:00|\n",
            "|          6|2025-08-01 09:00:00|\n",
            "|          7|2025-08-01 09:45:00|\n",
            "|          8|2025-08-01 08:50:00|\n",
            "|          1|2025-08-01 09:00:00|\n",
            "+-----------+-------------------+\n",
            "only showing top 10 rows\n",
            "\n"
          ]
        }
      ]
    },
    {
      "cell_type": "code",
      "source": [
        "from pyspark.sql.functions import col\n",
        "\n",
        "# Filter rows where both clock_in and clock_out are null\n",
        "absentees_df = attendence_df.filter(\n",
        "    col(\"clock_in\").isNull() & col(\"clock_out\").isNull()\n",
        ")\n",
        "\n",
        "# Show a few absentees\n",
        "absentees_df.select(\"employee_id\", \"name\", \"department_name\").show(5)\n",
        "\n",
        "#No absentees were found in the dataset.\n",
        "#All employees had clock-in and clock-out records for the period analyzed.\n",
        "\n"
      ],
      "metadata": {
        "colab": {
          "base_uri": "https://localhost:8080/"
        },
        "id": "h1UkfwdJN4vd",
        "outputId": "60c3462d-1cbc-494e-c901-4c4a0632df0f"
      },
      "execution_count": 20,
      "outputs": [
        {
          "output_type": "stream",
          "name": "stdout",
          "text": [
            "+-----------+----+---------------+\n",
            "|employee_id|name|department_name|\n",
            "+-----------+----+---------------+\n",
            "+-----------+----+---------------+\n",
            "\n"
          ]
        }
      ]
    },
    {
      "cell_type": "code",
      "source": [
        "#Average work hours per department\n",
        "from pyspark.sql.functions import avg\n",
        "avg_work_hours_df=attendence_df.groupBy(\"department_name\").agg(round(avg(\"work_hours\"),2).alias(\"avg_work_hours\"))\n",
        "avg_work_hours_df.show()"
      ],
      "metadata": {
        "colab": {
          "base_uri": "https://localhost:8080/"
        },
        "id": "PBb4FudRQjt7",
        "outputId": "7a3d4187-54a9-463f-8573-ffe3ed5a98fa"
      },
      "execution_count": 30,
      "outputs": [
        {
          "output_type": "stream",
          "name": "stdout",
          "text": [
            "+---------------+--------------+\n",
            "|department_name|avg_work_hours|\n",
            "+---------------+--------------+\n",
            "|          Sales|          7.17|\n",
            "|             HR|           7.9|\n",
            "|        Finance|          8.33|\n",
            "|      Marketing|          8.33|\n",
            "|             IT|          7.65|\n",
            "+---------------+--------------+\n",
            "\n"
          ]
        }
      ]
    },
    {
      "cell_type": "code",
      "source": [
        "#Late Logins Per Department\n",
        "late_counts_df = late_logins_df.groupBy(\"department_name\") .count() .withColumnRenamed(\"count\", \"late_logins\")\n",
        "\n",
        "late_counts_df.show()\n",
        "\n"
      ],
      "metadata": {
        "colab": {
          "base_uri": "https://localhost:8080/"
        },
        "id": "NkKVW2AZQ-pc",
        "outputId": "407a7dd8-060c-4095-cf34-4c4239fabd1b"
      },
      "execution_count": 24,
      "outputs": [
        {
          "output_type": "stream",
          "name": "stdout",
          "text": [
            "+---------------+-----------+\n",
            "|department_name|late_logins|\n",
            "+---------------+-----------+\n",
            "+---------------+-----------+\n",
            "\n"
          ]
        }
      ]
    },
    {
      "cell_type": "code",
      "source": [
        "#Absentees Per Department\n",
        "absent_counts_df = absentees_df.groupBy(\"department_name\") .count() .withColumnRenamed(\"count\", \"absentees\")\n",
        "\n",
        "absent_counts_df.show()\n"
      ],
      "metadata": {
        "colab": {
          "base_uri": "https://localhost:8080/"
        },
        "id": "UwDGpVcFRhl9",
        "outputId": "a69cc47d-9c6b-47f9-9d53-ec899a826c25"
      },
      "execution_count": 25,
      "outputs": [
        {
          "output_type": "stream",
          "name": "stdout",
          "text": [
            "+---------------+---------+\n",
            "|department_name|absentees|\n",
            "+---------------+---------+\n",
            "+---------------+---------+\n",
            "\n"
          ]
        }
      ]
    },
    {
      "cell_type": "code",
      "source": [
        "#Join All Results Together\n",
        "# Join avg work hours and late logins\n",
        "dept_summary_df = avg_hours_df.join(late_counts_df, on=\"department_name\", how=\"left\")\n",
        "\n",
        "# Join with absentees data too (will be empty, but let's include for structure)\n",
        "dept_summary_df = dept_summary_df.join(absent_counts_df, on=\"department_name\", how=\"left\")\n",
        "\n",
        "# Fill nulls with 0 where there were no late logins or absentees\n",
        "dept_summary_df = dept_summary_df.fillna(0)\n",
        "\n",
        "dept_summary_df.show()\n"
      ],
      "metadata": {
        "colab": {
          "base_uri": "https://localhost:8080/"
        },
        "id": "lS8VyTDcRqDd",
        "outputId": "2b1bf6bc-2313-4e8b-b311-5c5a8039a953"
      },
      "execution_count": 31,
      "outputs": [
        {
          "output_type": "stream",
          "name": "stdout",
          "text": [
            "+---------------+--------------+-----------+---------+\n",
            "|department_name|avg_work_hours|late_logins|absentees|\n",
            "+---------------+--------------+-----------+---------+\n",
            "|          Sales|          7.17|          0|        0|\n",
            "|             HR|           7.9|          0|        0|\n",
            "|        Finance|          8.33|          0|        0|\n",
            "|      Marketing|          8.33|          0|        0|\n",
            "|             IT|          7.65|          0|        0|\n",
            "+---------------+--------------+-----------+---------+\n",
            "\n"
          ]
        }
      ]
    },
    {
      "cell_type": "code",
      "source": [
        "dept_summary_df.toPandas().to_csv(\"department_summary.csv\", index=False)\n"
      ],
      "metadata": {
        "id": "rtq071MwSh7x"
      },
      "execution_count": 33,
      "outputs": []
    }
  ]
}