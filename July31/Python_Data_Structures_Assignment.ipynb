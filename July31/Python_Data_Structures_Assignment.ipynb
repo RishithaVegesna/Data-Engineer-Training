{
  "nbformat": 4,
  "nbformat_minor": 0,
  "metadata": {
    "colab": {
      "provenance": []
    },
    "kernelspec": {
      "name": "python3",
      "display_name": "Python 3"
    },
    "language_info": {
      "name": "python"
    }
  },
  "cells": [
    {
      "cell_type": "code",
      "execution_count": 2,
      "metadata": {
        "colab": {
          "base_uri": "https://localhost:8080/"
        },
        "id": "y7ykmqStEQXy",
        "outputId": "91f19d65-ec0d-474b-b471-c8b1b7d75136"
      },
      "outputs": [
        {
          "output_type": "stream",
          "name": "stdout",
          "text": [
            "Ravis second mark: 72\n"
          ]
        }
      ],
      "source": [
        "#Section-1\n",
        "students = [\n",
        "    [\"Ravi\", [85, 72, 90]],\n",
        "    [\"Sneha\", [95, 88, 92]],\n",
        "    [\"Kabir\", [65, 70, 60]],\n",
        "    [\"Anita\", [75, 80, 78]]\n",
        "]\n",
        "#1\n",
        "print(\"Ravis second mark:\",students[0][1][1])"
      ]
    },
    {
      "cell_type": "code",
      "source": [
        "#2\n",
        "print(\"Average mark for each student:\")\n",
        "for student in students:\n",
        "  name=student[0]\n",
        "  marks=student[1]\n",
        "  average=sum(marks)/len(marks)\n",
        "  print(f\"{name}'s average:{average:.2f}\")"
      ],
      "metadata": {
        "colab": {
          "base_uri": "https://localhost:8080/"
        },
        "id": "NetnOXs7E98c",
        "outputId": "0bcf639f-23aa-460f-ce9c-a1f34bfef607"
      },
      "execution_count": 3,
      "outputs": [
        {
          "output_type": "stream",
          "name": "stdout",
          "text": [
            "Average mark for each student:\n",
            "Ravi's average:82.33\n",
            "Sneha's average:91.67\n",
            "Kabir's average:65.00\n",
            "Anita's average:77.67\n"
          ]
        }
      ]
    },
    {
      "cell_type": "code",
      "source": [
        "#3\n",
        "print(\"Students who scored above 80 in all subjects:\")\n",
        "for student in students:\n",
        "  name=student[0]\n",
        "  marks=student[1]\n",
        "  passed=True\n",
        "  for mark in marks:\n",
        "    if mark<=80:\n",
        "      passed=False\n",
        "      break\n",
        "    if passed:\n",
        "      print(name)\n"
      ],
      "metadata": {
        "colab": {
          "base_uri": "https://localhost:8080/"
        },
        "id": "NKXPI4qMF180",
        "outputId": "dcce85bf-7774-4640-8140-1230ca6c0cef"
      },
      "execution_count": 6,
      "outputs": [
        {
          "output_type": "stream",
          "name": "stdout",
          "text": [
            "Students who scored above 80 in all subjects:\n",
            "Ravi\n",
            "Sneha\n",
            "Sneha\n",
            "Sneha\n"
          ]
        }
      ]
    },
    {
      "cell_type": "code",
      "source": [
        "#4\n",
        "name_avg_list=[]\n",
        "for student in students:\n",
        "  name=student[0]\n",
        "  marks=student[1]\n",
        "  average=sum(marks)/len(marks)\n",
        "  name_avg_list.append((name,average))\n",
        "print(name_avg_list )"
      ],
      "metadata": {
        "colab": {
          "base_uri": "https://localhost:8080/"
        },
        "id": "Gbx-ZSXPHm38",
        "outputId": "8eb33c7b-7335-4f46-f409-02cdaf12a3b6"
      },
      "execution_count": 9,
      "outputs": [
        {
          "output_type": "stream",
          "name": "stdout",
          "text": [
            "[('Ravi', 82.33333333333333), ('Sneha', 91.66666666666667), ('Kabir', 65.0), ('Anita', 77.66666666666667)]\n"
          ]
        }
      ]
    },
    {
      "cell_type": "code",
      "source": [
        "#Section-2\n",
        "#1\n",
        "data = {\n",
        "    \"products\": [\"Mobile\", \"Laptop\", \"Tablet\", \"Camera\"],\n",
        "    \"prices\": [12000, 55000, 18000, 25000],\n",
        "    \"ratings\": [4.5, 4.7, 4.0, 4.2]\n",
        "}\n",
        "product_list=[]\n",
        "for i in range(len(data[\"products\"])):\n",
        "  product_dict={\n",
        "      \"name\":data[\"products\"][i],\n",
        "      \"prices\":data[\"prices\"][i],\n",
        "      \"ratings\":data[\"ratings\"][i]\n",
        "  }\n",
        "  product_list.append(product_dict)\n",
        "  print(product_list)"
      ],
      "metadata": {
        "colab": {
          "base_uri": "https://localhost:8080/"
        },
        "id": "DS7zWZ7fHYVL",
        "outputId": "354b2d11-0ba0-43de-a72b-38646f956ec3"
      },
      "execution_count": 11,
      "outputs": [
        {
          "output_type": "stream",
          "name": "stdout",
          "text": [
            "[{'name': 'Mobile', 'prices': 12000, 'ratings': 4.5}]\n",
            "[{'name': 'Mobile', 'prices': 12000, 'ratings': 4.5}, {'name': 'Laptop', 'prices': 55000, 'ratings': 4.7}]\n",
            "[{'name': 'Mobile', 'prices': 12000, 'ratings': 4.5}, {'name': 'Laptop', 'prices': 55000, 'ratings': 4.7}, {'name': 'Tablet', 'prices': 18000, 'ratings': 4.0}]\n",
            "[{'name': 'Mobile', 'prices': 12000, 'ratings': 4.5}, {'name': 'Laptop', 'prices': 55000, 'ratings': 4.7}, {'name': 'Tablet', 'prices': 18000, 'ratings': 4.0}, {'name': 'Camera', 'prices': 25000, 'ratings': 4.2}]\n"
          ]
        }
      ]
    },
    {
      "cell_type": "code",
      "source": [
        "#2\n",
        "print(\"Products with price > 20000 and rating >= 4.5:\")\n",
        "for product in product_list:\n",
        "    if product[\"prices\"] > 20000 and product[\"ratings\"] >= 4.5:\n",
        "        print(product)"
      ],
      "metadata": {
        "colab": {
          "base_uri": "https://localhost:8080/"
        },
        "id": "IKQQgBxbJ4Jo",
        "outputId": "1eea1e88-38ca-4140-9830-0d414175d788"
      },
      "execution_count": 16,
      "outputs": [
        {
          "output_type": "stream",
          "name": "stdout",
          "text": [
            "Products with price > 20000 and rating >= 4.5:\n",
            "{'name': 'Laptop', 'prices': 55000, 'ratings': 4.7}\n"
          ]
        }
      ]
    },
    {
      "cell_type": "code",
      "source": [
        "#3\n",
        "def get_rating(product):\n",
        "  return product[\"ratings\"]\n",
        "sorted_products=sorted(product_list,key=get_rating,reverse=True)\n",
        "print(\"Sorted products based on ratings:\")\n",
        "for product in sorted_products:\n",
        "  print(product)"
      ],
      "metadata": {
        "colab": {
          "base_uri": "https://localhost:8080/"
        },
        "id": "aY1LfUUQK4H1",
        "outputId": "60816365-5281-4506-ffe5-f329a6f3b95e"
      },
      "execution_count": 18,
      "outputs": [
        {
          "output_type": "stream",
          "name": "stdout",
          "text": [
            "Sorted products based on ratings:\n",
            "{'name': 'Laptop', 'prices': 55000, 'ratings': 4.7}\n",
            "{'name': 'Mobile', 'prices': 12000, 'ratings': 4.5}\n",
            "{'name': 'Camera', 'prices': 25000, 'ratings': 4.2}\n",
            "{'name': 'Tablet', 'prices': 18000, 'ratings': 4.0}\n"
          ]
        }
      ]
    },
    {
      "cell_type": "code",
      "source": [
        "#Section-3\n",
        "#1\n",
        "text = \"ai is the future and ai will change everything in the ai world\"\n",
        "words=text.split()\n",
        "freq={}\n",
        "for word in words:\n",
        "  if word in freq:\n",
        "    freq[word]+=1\n",
        "  else:\n",
        "    freq[word]=1\n",
        "\n",
        "  print(freq)\n",
        "#2\n",
        "print(\"Words that appear more than once:\")\n",
        "for word,count in freq.items():\n",
        "  if count > 1:\n",
        "    print(f\"{word}->{count}\")\n"
      ],
      "metadata": {
        "colab": {
          "base_uri": "https://localhost:8080/"
        },
        "id": "XFdUY9B9NL-9",
        "outputId": "fe02bfec-1a1f-4161-813e-23931d2f468b"
      },
      "execution_count": 26,
      "outputs": [
        {
          "output_type": "stream",
          "name": "stdout",
          "text": [
            "{'ai': 1}\n",
            "{'ai': 1, 'is': 1}\n",
            "{'ai': 1, 'is': 1, 'the': 1}\n",
            "{'ai': 1, 'is': 1, 'the': 1, 'future': 1}\n",
            "{'ai': 1, 'is': 1, 'the': 1, 'future': 1, 'and': 1}\n",
            "{'ai': 2, 'is': 1, 'the': 1, 'future': 1, 'and': 1}\n",
            "{'ai': 2, 'is': 1, 'the': 1, 'future': 1, 'and': 1, 'will': 1}\n",
            "{'ai': 2, 'is': 1, 'the': 1, 'future': 1, 'and': 1, 'will': 1, 'change': 1}\n",
            "{'ai': 2, 'is': 1, 'the': 1, 'future': 1, 'and': 1, 'will': 1, 'change': 1, 'everything': 1}\n",
            "{'ai': 2, 'is': 1, 'the': 1, 'future': 1, 'and': 1, 'will': 1, 'change': 1, 'everything': 1, 'in': 1}\n",
            "{'ai': 2, 'is': 1, 'the': 2, 'future': 1, 'and': 1, 'will': 1, 'change': 1, 'everything': 1, 'in': 1}\n",
            "{'ai': 3, 'is': 1, 'the': 2, 'future': 1, 'and': 1, 'will': 1, 'change': 1, 'everything': 1, 'in': 1}\n",
            "{'ai': 3, 'is': 1, 'the': 2, 'future': 1, 'and': 1, 'will': 1, 'change': 1, 'everything': 1, 'in': 1, 'world': 1}\n",
            "Words that appear more than once:\n",
            "ai->3\n",
            "the->2\n"
          ]
        }
      ]
    },
    {
      "cell_type": "code",
      "source": [
        "#3\n",
        "text = \"ai is the future and ai will change everything in the ai world\"\n",
        "words=text.split()\n",
        "unique_words=set(words)\n",
        "sorted_words=sorted(unique_words)\n",
        "print(\"Sorted unique words:\")\n",
        "print(sorted_words)"
      ],
      "metadata": {
        "colab": {
          "base_uri": "https://localhost:8080/"
        },
        "id": "5JqXmx2WORMj",
        "outputId": "73e57da4-c4d2-4417-e245-55d45a954192"
      },
      "execution_count": 27,
      "outputs": [
        {
          "output_type": "stream",
          "name": "stdout",
          "text": [
            "Sorted unique words:\n",
            "['ai', 'and', 'change', 'everything', 'future', 'in', 'is', 'the', 'will', 'world']\n"
          ]
        }
      ]
    },
    {
      "cell_type": "code",
      "source": [
        "#4\n",
        "text = \"ai is the future and ai will change everything in the ai world\"\n",
        "set1 = set(text.split())\n",
        "set2 = {\"ai\", \"ml\", \"data\", \"future\"}\n",
        "common_words=set1.intersection(set2)\n",
        "print(\"Commonn words between set1 and set2:\")\n",
        "print(common_words)\n"
      ],
      "metadata": {
        "colab": {
          "base_uri": "https://localhost:8080/"
        },
        "id": "0zC8KILOQXuu",
        "outputId": "d5920d00-06c6-4a61-b595-e88420c5c57f"
      },
      "execution_count": 28,
      "outputs": [
        {
          "output_type": "stream",
          "name": "stdout",
          "text": [
            "Commonn words between set1 and set2:\n",
            "{'future', 'ai'}\n"
          ]
        }
      ]
    },
    {
      "cell_type": "code",
      "source": [
        "#Section-4\n",
        "sales = {\n",
        "    'Amit': 70000,\n",
        "    'Sneha': 45000,\n",
        "    'Ravi': 30000,\n",
        "    'Anita': 90000,\n",
        "    'Kabir': 20000\n",
        "}\n",
        "#1\n",
        "bonus_sales={}\n",
        "for name,amount in sales.items():\n",
        "  bonus=amount*0.10\n",
        "  total=amount+bonus\n",
        "  bonus_sales[name]=total\n",
        "print(bonus_sales)"
      ],
      "metadata": {
        "colab": {
          "base_uri": "https://localhost:8080/"
        },
        "id": "QhgTJCwFQtrv",
        "outputId": "50c85f69-eacd-4da5-d7bd-500e91f53f45"
      },
      "execution_count": 31,
      "outputs": [
        {
          "output_type": "stream",
          "name": "stdout",
          "text": [
            "{'Amit': 77000.0, 'Sneha': 49500.0, 'Ravi': 33000.0, 'Anita': 99000.0, 'Kabir': 22000.0}\n"
          ]
        }
      ]
    },
    {
      "cell_type": "code",
      "source": [
        "#2\n",
        "high_sales={}\n",
        "for name,amount in sales.items():\n",
        "  if amount > 50000:\n",
        "    high_sales[name]=amount\n",
        "print(\"People with sales > 50,000:\")\n",
        "print(high_sales)"
      ],
      "metadata": {
        "colab": {
          "base_uri": "https://localhost:8080/"
        },
        "id": "vaNsm7TLTqFj",
        "outputId": "9bb0f932-c1cb-4e06-f287-5ec51be2b048"
      },
      "execution_count": 33,
      "outputs": [
        {
          "output_type": "stream",
          "name": "stdout",
          "text": [
            "People with sales > 50,000:\n",
            "{'Amit': 70000, 'Anita': 90000}\n"
          ]
        }
      ]
    },
    {
      "cell_type": "code",
      "source": [
        "#3\n",
        "sales_labels={}\n",
        "for name,amount in sales.items():\n",
        "  if amount >=75000:\n",
        "    label=\"High\"\n",
        "  elif amount >=40000:\n",
        "    label=\"Medium\"\n",
        "  else:\n",
        "    label=\"Low\"\n",
        "  sales_labels[name]=label\n",
        "print(\"Sales labels:\")\n",
        "print(sales_labels)\n"
      ],
      "metadata": {
        "colab": {
          "base_uri": "https://localhost:8080/"
        },
        "id": "rFuTZi_4T92p",
        "outputId": "7c18cd42-34e9-4272-b915-9aab580f71a8"
      },
      "execution_count": 34,
      "outputs": [
        {
          "output_type": "stream",
          "name": "stdout",
          "text": [
            "Sales labels:\n",
            "{'Amit': 'Medium', 'Sneha': 'Medium', 'Ravi': 'Low', 'Anita': 'High', 'Kabir': 'Low'}\n"
          ]
        }
      ]
    },
    {
      "cell_type": "code",
      "source": [
        "#Section-5\n",
        "names = (\"Ravi\", \"Sneha\", \"Kabir\")\n",
        "marks = (88, 92, 76)\n",
        "#1\n",
        "student_scores=dict(zip(names,marks))\n",
        "print(student_scores)\n"
      ],
      "metadata": {
        "colab": {
          "base_uri": "https://localhost:8080/"
        },
        "id": "lmT3NK0JUbZA",
        "outputId": "c4703858-8d01-41d0-f46e-81cec46cc19f"
      },
      "execution_count": 35,
      "outputs": [
        {
          "output_type": "stream",
          "name": "stdout",
          "text": [
            "{'Ravi': 88, 'Sneha': 92, 'Kabir': 76}\n"
          ]
        }
      ]
    },
    {
      "cell_type": "code",
      "source": [
        "#2\n",
        "marks = (88, 92, 76)\n",
        "minimum = min(marks)\n",
        "maximum = max(marks)\n",
        "print(\"Minimum mark:\", minimum)\n",
        "print(\"Maximum mark:\", maximum)"
      ],
      "metadata": {
        "colab": {
          "base_uri": "https://localhost:8080/"
        },
        "id": "faTGRvWtUz7y",
        "outputId": "63d34459-0359-421f-a7c5-c04f8fd84282"
      },
      "execution_count": 36,
      "outputs": [
        {
          "output_type": "stream",
          "name": "stdout",
          "text": [
            "Minimum mark: 76\n",
            "Maximum mark: 92\n"
          ]
        }
      ]
    },
    {
      "cell_type": "code",
      "source": [
        "#3\n",
        "marks = (88, 92, 76)\n",
        "marks_set = set(marks)\n",
        "marks_set.add(85)\n",
        "\n",
        "print(\"Set of marks after adding new value:\")\n",
        "print(marks_set)\n"
      ],
      "metadata": {
        "colab": {
          "base_uri": "https://localhost:8080/"
        },
        "id": "39vkMiPeU_JC",
        "outputId": "b9be0266-2df8-466e-99b5-6b688cbb5181"
      },
      "execution_count": 37,
      "outputs": [
        {
          "output_type": "stream",
          "name": "stdout",
          "text": [
            "Set of marks after adding new value:\n",
            "{88, 92, 85, 76}\n"
          ]
        }
      ]
    },
    {
      "cell_type": "code",
      "source": [
        "#4\n",
        "set1 = {88, 92, 76}\n",
        "set2 = {85, 92, 90}\n",
        "\n",
        "merged_set = set1.union(set2)\n",
        "\n",
        "print(\"Merged set with unique elements:\")\n",
        "print(merged_set)\n"
      ],
      "metadata": {
        "colab": {
          "base_uri": "https://localhost:8080/"
        },
        "id": "N2eWOlt-VMCN",
        "outputId": "f849b4ba-b3f0-4654-f65c-20db482a54f3"
      },
      "execution_count": 38,
      "outputs": [
        {
          "output_type": "stream",
          "name": "stdout",
          "text": [
            "Merged set with unique elements:\n",
            "{85, 88, 90, 92, 76}\n"
          ]
        }
      ]
    }
  ]
}