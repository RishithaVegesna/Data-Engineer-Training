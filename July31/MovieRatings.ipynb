{
  "nbformat": 4,
  "nbformat_minor": 0,
  "metadata": {
    "colab": {
      "provenance": []
    },
    "kernelspec": {
      "name": "python3",
      "display_name": "Python 3"
    },
    "language_info": {
      "name": "python"
    }
  },
  "cells": [
    {
      "cell_type": "code",
      "execution_count": 1,
      "metadata": {
        "colab": {
          "base_uri": "https://localhost:8080/"
        },
        "id": "XDbkAFNwPfa5",
        "outputId": "b2dcb242-4f53-4261-8c1c-7a66797fd307"
      },
      "outputs": [
        {
          "output_type": "stream",
          "name": "stdout",
          "text": [
            " movies.csv created successfully!\n"
          ]
        }
      ],
      "source": [
        "import pandas as pd\n",
        "data = [\n",
        "    [1, \"Inception\", \"Sci-Fi\", \"2010-07-16\", 8.8, 825532764, 160000000],\n",
        "    [2, \"The Dark Knight\", \"Action\", \"2008-07-18\", 9.0, 1004558444, 185000000],\n",
        "    [3, \"Titanic\", \"Romance\", \"1997-12-19\", 7.8, 2187463944, 200000000],\n",
        "    [4, \"Interstellar\", \"Sci-Fi\", \"2014-11-07\", 8.6, 677471339, 165000000],\n",
        "    [5, \"Joker\", \"Drama\", \"2019-10-04\", 8.4, 1074251311, 55000000],\n",
        "    [6, \"The Notebook\", \"Romance\", \"2004-06-25\", 7.9, None, 29000000],\n",
        "    [7, \"Avengers: Endgame\", \"Action\", \"2019-04-26\", 8.4, 2797800564, 356000000]\n",
        "]\n",
        "\n",
        "columns = [\"MovieID\", \"Title\", \"Genre\", \"ReleaseDate\", \"Rating\", \"Revenue\", \"Budget\"]\n",
        "\n",
        "# Create DataFrame and save to CSV\n",
        "df = pd.DataFrame(data, columns=columns)\n",
        "df.to_csv(\"movies.csv\", index=False)\n",
        "\n",
        "print(\" movies.csv created successfully!\")\n"
      ]
    },
    {
      "cell_type": "code",
      "source": [
        "#1\n",
        "import pandas as pd\n",
        "df=pd.read_csv(\"movies.csv\")\n",
        "df.head()"
      ],
      "metadata": {
        "colab": {
          "base_uri": "https://localhost:8080/",
          "height": 206
        },
        "id": "CBYCb4ycQcFL",
        "outputId": "2bc35c9d-4ef5-4a03-8fa6-5ef95ef3908c"
      },
      "execution_count": 2,
      "outputs": [
        {
          "output_type": "execute_result",
          "data": {
            "text/plain": [
              "   MovieID            Title    Genre ReleaseDate  Rating       Revenue  \\\n",
              "0        1        Inception   Sci-Fi  2010-07-16     8.8  8.255328e+08   \n",
              "1        2  The Dark Knight   Action  2008-07-18     9.0  1.004558e+09   \n",
              "2        3          Titanic  Romance  1997-12-19     7.8  2.187464e+09   \n",
              "3        4     Interstellar   Sci-Fi  2014-11-07     8.6  6.774713e+08   \n",
              "4        5            Joker    Drama  2019-10-04     8.4  1.074251e+09   \n",
              "\n",
              "      Budget  \n",
              "0  160000000  \n",
              "1  185000000  \n",
              "2  200000000  \n",
              "3  165000000  \n",
              "4   55000000  "
            ],
            "text/html": [
              "\n",
              "  <div id=\"df-385cbad9-b39c-433c-a39e-a5413b0f8f1d\" class=\"colab-df-container\">\n",
              "    <div>\n",
              "<style scoped>\n",
              "    .dataframe tbody tr th:only-of-type {\n",
              "        vertical-align: middle;\n",
              "    }\n",
              "\n",
              "    .dataframe tbody tr th {\n",
              "        vertical-align: top;\n",
              "    }\n",
              "\n",
              "    .dataframe thead th {\n",
              "        text-align: right;\n",
              "    }\n",
              "</style>\n",
              "<table border=\"1\" class=\"dataframe\">\n",
              "  <thead>\n",
              "    <tr style=\"text-align: right;\">\n",
              "      <th></th>\n",
              "      <th>MovieID</th>\n",
              "      <th>Title</th>\n",
              "      <th>Genre</th>\n",
              "      <th>ReleaseDate</th>\n",
              "      <th>Rating</th>\n",
              "      <th>Revenue</th>\n",
              "      <th>Budget</th>\n",
              "    </tr>\n",
              "  </thead>\n",
              "  <tbody>\n",
              "    <tr>\n",
              "      <th>0</th>\n",
              "      <td>1</td>\n",
              "      <td>Inception</td>\n",
              "      <td>Sci-Fi</td>\n",
              "      <td>2010-07-16</td>\n",
              "      <td>8.8</td>\n",
              "      <td>8.255328e+08</td>\n",
              "      <td>160000000</td>\n",
              "    </tr>\n",
              "    <tr>\n",
              "      <th>1</th>\n",
              "      <td>2</td>\n",
              "      <td>The Dark Knight</td>\n",
              "      <td>Action</td>\n",
              "      <td>2008-07-18</td>\n",
              "      <td>9.0</td>\n",
              "      <td>1.004558e+09</td>\n",
              "      <td>185000000</td>\n",
              "    </tr>\n",
              "    <tr>\n",
              "      <th>2</th>\n",
              "      <td>3</td>\n",
              "      <td>Titanic</td>\n",
              "      <td>Romance</td>\n",
              "      <td>1997-12-19</td>\n",
              "      <td>7.8</td>\n",
              "      <td>2.187464e+09</td>\n",
              "      <td>200000000</td>\n",
              "    </tr>\n",
              "    <tr>\n",
              "      <th>3</th>\n",
              "      <td>4</td>\n",
              "      <td>Interstellar</td>\n",
              "      <td>Sci-Fi</td>\n",
              "      <td>2014-11-07</td>\n",
              "      <td>8.6</td>\n",
              "      <td>6.774713e+08</td>\n",
              "      <td>165000000</td>\n",
              "    </tr>\n",
              "    <tr>\n",
              "      <th>4</th>\n",
              "      <td>5</td>\n",
              "      <td>Joker</td>\n",
              "      <td>Drama</td>\n",
              "      <td>2019-10-04</td>\n",
              "      <td>8.4</td>\n",
              "      <td>1.074251e+09</td>\n",
              "      <td>55000000</td>\n",
              "    </tr>\n",
              "  </tbody>\n",
              "</table>\n",
              "</div>\n",
              "    <div class=\"colab-df-buttons\">\n",
              "\n",
              "  <div class=\"colab-df-container\">\n",
              "    <button class=\"colab-df-convert\" onclick=\"convertToInteractive('df-385cbad9-b39c-433c-a39e-a5413b0f8f1d')\"\n",
              "            title=\"Convert this dataframe to an interactive table.\"\n",
              "            style=\"display:none;\">\n",
              "\n",
              "  <svg xmlns=\"http://www.w3.org/2000/svg\" height=\"24px\" viewBox=\"0 -960 960 960\">\n",
              "    <path d=\"M120-120v-720h720v720H120Zm60-500h600v-160H180v160Zm220 220h160v-160H400v160Zm0 220h160v-160H400v160ZM180-400h160v-160H180v160Zm440 0h160v-160H620v160ZM180-180h160v-160H180v160Zm440 0h160v-160H620v160Z\"/>\n",
              "  </svg>\n",
              "    </button>\n",
              "\n",
              "  <style>\n",
              "    .colab-df-container {\n",
              "      display:flex;\n",
              "      gap: 12px;\n",
              "    }\n",
              "\n",
              "    .colab-df-convert {\n",
              "      background-color: #E8F0FE;\n",
              "      border: none;\n",
              "      border-radius: 50%;\n",
              "      cursor: pointer;\n",
              "      display: none;\n",
              "      fill: #1967D2;\n",
              "      height: 32px;\n",
              "      padding: 0 0 0 0;\n",
              "      width: 32px;\n",
              "    }\n",
              "\n",
              "    .colab-df-convert:hover {\n",
              "      background-color: #E2EBFA;\n",
              "      box-shadow: 0px 1px 2px rgba(60, 64, 67, 0.3), 0px 1px 3px 1px rgba(60, 64, 67, 0.15);\n",
              "      fill: #174EA6;\n",
              "    }\n",
              "\n",
              "    .colab-df-buttons div {\n",
              "      margin-bottom: 4px;\n",
              "    }\n",
              "\n",
              "    [theme=dark] .colab-df-convert {\n",
              "      background-color: #3B4455;\n",
              "      fill: #D2E3FC;\n",
              "    }\n",
              "\n",
              "    [theme=dark] .colab-df-convert:hover {\n",
              "      background-color: #434B5C;\n",
              "      box-shadow: 0px 1px 3px 1px rgba(0, 0, 0, 0.15);\n",
              "      filter: drop-shadow(0px 1px 2px rgba(0, 0, 0, 0.3));\n",
              "      fill: #FFFFFF;\n",
              "    }\n",
              "  </style>\n",
              "\n",
              "    <script>\n",
              "      const buttonEl =\n",
              "        document.querySelector('#df-385cbad9-b39c-433c-a39e-a5413b0f8f1d button.colab-df-convert');\n",
              "      buttonEl.style.display =\n",
              "        google.colab.kernel.accessAllowed ? 'block' : 'none';\n",
              "\n",
              "      async function convertToInteractive(key) {\n",
              "        const element = document.querySelector('#df-385cbad9-b39c-433c-a39e-a5413b0f8f1d');\n",
              "        const dataTable =\n",
              "          await google.colab.kernel.invokeFunction('convertToInteractive',\n",
              "                                                    [key], {});\n",
              "        if (!dataTable) return;\n",
              "\n",
              "        const docLinkHtml = 'Like what you see? Visit the ' +\n",
              "          '<a target=\"_blank\" href=https://colab.research.google.com/notebooks/data_table.ipynb>data table notebook</a>'\n",
              "          + ' to learn more about interactive tables.';\n",
              "        element.innerHTML = '';\n",
              "        dataTable['output_type'] = 'display_data';\n",
              "        await google.colab.output.renderOutput(dataTable, element);\n",
              "        const docLink = document.createElement('div');\n",
              "        docLink.innerHTML = docLinkHtml;\n",
              "        element.appendChild(docLink);\n",
              "      }\n",
              "    </script>\n",
              "  </div>\n",
              "\n",
              "\n",
              "    <div id=\"df-9e47eeca-bfe8-4bab-ada7-c363f43d8554\">\n",
              "      <button class=\"colab-df-quickchart\" onclick=\"quickchart('df-9e47eeca-bfe8-4bab-ada7-c363f43d8554')\"\n",
              "                title=\"Suggest charts\"\n",
              "                style=\"display:none;\">\n",
              "\n",
              "<svg xmlns=\"http://www.w3.org/2000/svg\" height=\"24px\"viewBox=\"0 0 24 24\"\n",
              "     width=\"24px\">\n",
              "    <g>\n",
              "        <path d=\"M19 3H5c-1.1 0-2 .9-2 2v14c0 1.1.9 2 2 2h14c1.1 0 2-.9 2-2V5c0-1.1-.9-2-2-2zM9 17H7v-7h2v7zm4 0h-2V7h2v10zm4 0h-2v-4h2v4z\"/>\n",
              "    </g>\n",
              "</svg>\n",
              "      </button>\n",
              "\n",
              "<style>\n",
              "  .colab-df-quickchart {\n",
              "      --bg-color: #E8F0FE;\n",
              "      --fill-color: #1967D2;\n",
              "      --hover-bg-color: #E2EBFA;\n",
              "      --hover-fill-color: #174EA6;\n",
              "      --disabled-fill-color: #AAA;\n",
              "      --disabled-bg-color: #DDD;\n",
              "  }\n",
              "\n",
              "  [theme=dark] .colab-df-quickchart {\n",
              "      --bg-color: #3B4455;\n",
              "      --fill-color: #D2E3FC;\n",
              "      --hover-bg-color: #434B5C;\n",
              "      --hover-fill-color: #FFFFFF;\n",
              "      --disabled-bg-color: #3B4455;\n",
              "      --disabled-fill-color: #666;\n",
              "  }\n",
              "\n",
              "  .colab-df-quickchart {\n",
              "    background-color: var(--bg-color);\n",
              "    border: none;\n",
              "    border-radius: 50%;\n",
              "    cursor: pointer;\n",
              "    display: none;\n",
              "    fill: var(--fill-color);\n",
              "    height: 32px;\n",
              "    padding: 0;\n",
              "    width: 32px;\n",
              "  }\n",
              "\n",
              "  .colab-df-quickchart:hover {\n",
              "    background-color: var(--hover-bg-color);\n",
              "    box-shadow: 0 1px 2px rgba(60, 64, 67, 0.3), 0 1px 3px 1px rgba(60, 64, 67, 0.15);\n",
              "    fill: var(--button-hover-fill-color);\n",
              "  }\n",
              "\n",
              "  .colab-df-quickchart-complete:disabled,\n",
              "  .colab-df-quickchart-complete:disabled:hover {\n",
              "    background-color: var(--disabled-bg-color);\n",
              "    fill: var(--disabled-fill-color);\n",
              "    box-shadow: none;\n",
              "  }\n",
              "\n",
              "  .colab-df-spinner {\n",
              "    border: 2px solid var(--fill-color);\n",
              "    border-color: transparent;\n",
              "    border-bottom-color: var(--fill-color);\n",
              "    animation:\n",
              "      spin 1s steps(1) infinite;\n",
              "  }\n",
              "\n",
              "  @keyframes spin {\n",
              "    0% {\n",
              "      border-color: transparent;\n",
              "      border-bottom-color: var(--fill-color);\n",
              "      border-left-color: var(--fill-color);\n",
              "    }\n",
              "    20% {\n",
              "      border-color: transparent;\n",
              "      border-left-color: var(--fill-color);\n",
              "      border-top-color: var(--fill-color);\n",
              "    }\n",
              "    30% {\n",
              "      border-color: transparent;\n",
              "      border-left-color: var(--fill-color);\n",
              "      border-top-color: var(--fill-color);\n",
              "      border-right-color: var(--fill-color);\n",
              "    }\n",
              "    40% {\n",
              "      border-color: transparent;\n",
              "      border-right-color: var(--fill-color);\n",
              "      border-top-color: var(--fill-color);\n",
              "    }\n",
              "    60% {\n",
              "      border-color: transparent;\n",
              "      border-right-color: var(--fill-color);\n",
              "    }\n",
              "    80% {\n",
              "      border-color: transparent;\n",
              "      border-right-color: var(--fill-color);\n",
              "      border-bottom-color: var(--fill-color);\n",
              "    }\n",
              "    90% {\n",
              "      border-color: transparent;\n",
              "      border-bottom-color: var(--fill-color);\n",
              "    }\n",
              "  }\n",
              "</style>\n",
              "\n",
              "      <script>\n",
              "        async function quickchart(key) {\n",
              "          const quickchartButtonEl =\n",
              "            document.querySelector('#' + key + ' button');\n",
              "          quickchartButtonEl.disabled = true;  // To prevent multiple clicks.\n",
              "          quickchartButtonEl.classList.add('colab-df-spinner');\n",
              "          try {\n",
              "            const charts = await google.colab.kernel.invokeFunction(\n",
              "                'suggestCharts', [key], {});\n",
              "          } catch (error) {\n",
              "            console.error('Error during call to suggestCharts:', error);\n",
              "          }\n",
              "          quickchartButtonEl.classList.remove('colab-df-spinner');\n",
              "          quickchartButtonEl.classList.add('colab-df-quickchart-complete');\n",
              "        }\n",
              "        (() => {\n",
              "          let quickchartButtonEl =\n",
              "            document.querySelector('#df-9e47eeca-bfe8-4bab-ada7-c363f43d8554 button');\n",
              "          quickchartButtonEl.style.display =\n",
              "            google.colab.kernel.accessAllowed ? 'block' : 'none';\n",
              "        })();\n",
              "      </script>\n",
              "    </div>\n",
              "\n",
              "    </div>\n",
              "  </div>\n"
            ],
            "application/vnd.google.colaboratory.intrinsic+json": {
              "type": "dataframe",
              "variable_name": "df",
              "summary": "{\n  \"name\": \"df\",\n  \"rows\": 7,\n  \"fields\": [\n    {\n      \"column\": \"MovieID\",\n      \"properties\": {\n        \"dtype\": \"number\",\n        \"std\": 2,\n        \"min\": 1,\n        \"max\": 7,\n        \"num_unique_values\": 7,\n        \"samples\": [\n          1,\n          2,\n          6\n        ],\n        \"semantic_type\": \"\",\n        \"description\": \"\"\n      }\n    },\n    {\n      \"column\": \"Title\",\n      \"properties\": {\n        \"dtype\": \"string\",\n        \"num_unique_values\": 7,\n        \"samples\": [\n          \"Inception\",\n          \"The Dark Knight\",\n          \"The Notebook\"\n        ],\n        \"semantic_type\": \"\",\n        \"description\": \"\"\n      }\n    },\n    {\n      \"column\": \"Genre\",\n      \"properties\": {\n        \"dtype\": \"string\",\n        \"num_unique_values\": 4,\n        \"samples\": [\n          \"Action\",\n          \"Drama\",\n          \"Sci-Fi\"\n        ],\n        \"semantic_type\": \"\",\n        \"description\": \"\"\n      }\n    },\n    {\n      \"column\": \"ReleaseDate\",\n      \"properties\": {\n        \"dtype\": \"object\",\n        \"num_unique_values\": 7,\n        \"samples\": [\n          \"2010-07-16\",\n          \"2008-07-18\",\n          \"2004-06-25\"\n        ],\n        \"semantic_type\": \"\",\n        \"description\": \"\"\n      }\n    },\n    {\n      \"column\": \"Rating\",\n      \"properties\": {\n        \"dtype\": \"number\",\n        \"std\": 0.44131837120372047,\n        \"min\": 7.8,\n        \"max\": 9.0,\n        \"num_unique_values\": 6,\n        \"samples\": [\n          8.8,\n          9.0,\n          7.9\n        ],\n        \"semantic_type\": \"\",\n        \"description\": \"\"\n      }\n    },\n    {\n      \"column\": \"Revenue\",\n      \"properties\": {\n        \"dtype\": \"number\",\n        \"std\": 858351892.1229686,\n        \"min\": 677471339.0,\n        \"max\": 2797800564.0,\n        \"num_unique_values\": 6,\n        \"samples\": [\n          825532764.0,\n          1004558444.0,\n          2797800564.0\n        ],\n        \"semantic_type\": \"\",\n        \"description\": \"\"\n      }\n    },\n    {\n      \"column\": \"Budget\",\n      \"properties\": {\n        \"dtype\": \"number\",\n        \"std\": 107022916,\n        \"min\": 29000000,\n        \"max\": 356000000,\n        \"num_unique_values\": 7,\n        \"samples\": [\n          160000000,\n          185000000,\n          29000000\n        ],\n        \"semantic_type\": \"\",\n        \"description\": \"\"\n      }\n    }\n  ]\n}"
            }
          },
          "metadata": {},
          "execution_count": 2
        }
      ]
    },
    {
      "cell_type": "code",
      "source": [
        "#2\n",
        "df[\"ReleaseDate\"]=pd.to_datetime(df[\"ReleaseDate\"])\n",
        "print(df.dtypes[\"ReleaseDate\"])\n",
        "print(df[[\"Title\",\"ReleaseDate\"]].head())"
      ],
      "metadata": {
        "colab": {
          "base_uri": "https://localhost:8080/"
        },
        "id": "lHW2G3m7QmfJ",
        "outputId": "d318a5fe-b875-422d-d5e0-6522910bf6d5"
      },
      "execution_count": 3,
      "outputs": [
        {
          "output_type": "stream",
          "name": "stdout",
          "text": [
            "datetime64[ns]\n",
            "             Title ReleaseDate\n",
            "0        Inception  2010-07-16\n",
            "1  The Dark Knight  2008-07-18\n",
            "2          Titanic  1997-12-19\n",
            "3     Interstellar  2014-11-07\n",
            "4            Joker  2019-10-04\n"
          ]
        }
      ]
    },
    {
      "cell_type": "code",
      "source": [
        "#3\n",
        "df[\"Profit\"]=df[\"Revenue\"]-df[\"Budget\"]\n",
        "print(df[[\"Title\", \"Revenue\", \"Budget\", \"Profit\"]])"
      ],
      "metadata": {
        "colab": {
          "base_uri": "https://localhost:8080/"
        },
        "id": "-cpLYHbIRy8K",
        "outputId": "9e8d9fe4-bb13-48e1-e553-1c6029b25658"
      },
      "execution_count": 5,
      "outputs": [
        {
          "output_type": "stream",
          "name": "stdout",
          "text": [
            "               Title       Revenue     Budget        Profit\n",
            "0          Inception  8.255328e+08  160000000  6.655328e+08\n",
            "1    The Dark Knight  1.004558e+09  185000000  8.195584e+08\n",
            "2            Titanic  2.187464e+09  200000000  1.987464e+09\n",
            "3       Interstellar  6.774713e+08  165000000  5.124713e+08\n",
            "4              Joker  1.074251e+09   55000000  1.019251e+09\n",
            "5       The Notebook           NaN   29000000           NaN\n",
            "6  Avengers: Endgame  2.797801e+09  356000000  2.441801e+09\n"
          ]
        }
      ]
    },
    {
      "cell_type": "code",
      "source": [
        "#4\n",
        "release_year=df[\"ReleaseDate\"].dt.year\n",
        "def get_era(year):\n",
        "    if year < 2000:\n",
        "        return \"Classic\"\n",
        "    elif year <= 2010:\n",
        "        return \"Mid\"\n",
        "    else:\n",
        "        return \"Modern\"\n",
        "df[\"Era\"]=release_year.apply(get_era)\n",
        "print(df[[\"Title\", \"ReleaseDate\", \"Era\"]])"
      ],
      "metadata": {
        "colab": {
          "base_uri": "https://localhost:8080/"
        },
        "id": "Jmktn9OTSOoA",
        "outputId": "c8f97e82-5b47-4e16-fdb0-aa5ced552daf"
      },
      "execution_count": 6,
      "outputs": [
        {
          "output_type": "stream",
          "name": "stdout",
          "text": [
            "               Title ReleaseDate      Era\n",
            "0          Inception  2010-07-16      Mid\n",
            "1    The Dark Knight  2008-07-18      Mid\n",
            "2            Titanic  1997-12-19  Classic\n",
            "3       Interstellar  2014-11-07   Modern\n",
            "4              Joker  2019-10-04   Modern\n",
            "5       The Notebook  2004-06-25      Mid\n",
            "6  Avengers: Endgame  2019-04-26   Modern\n"
          ]
        }
      ]
    },
    {
      "cell_type": "code",
      "source": [
        "#5\n",
        "avg_revenue=df[\"Revenue\"].mean()\n",
        "df[\"Revenue\"]=df[\"Revenue\"].fillna(avg_revenue)\n",
        "df[\"Profit\"]=df[\"Revenue\"]-df[\"Budget\"]\n",
        "print(df[df[\"Title\"]==\"The Notebook\"][[\"Title\", \"Revenue\", \"Budget\", \"Profit\"]])"
      ],
      "metadata": {
        "colab": {
          "base_uri": "https://localhost:8080/"
        },
        "id": "2TzbQUbjTLqB",
        "outputId": "a0076b83-cf57-4c19-b805-3468a120b6d2"
      },
      "execution_count": 7,
      "outputs": [
        {
          "output_type": "stream",
          "name": "stdout",
          "text": [
            "          Title       Revenue    Budget        Profit\n",
            "5  The Notebook  1.427846e+09  29000000  1.398846e+09\n"
          ]
        }
      ]
    },
    {
      "cell_type": "code",
      "source": [
        "#6\n",
        "df_sorted=df.sort_values(by=\"Rating\",ascending=False)\n",
        "print(df_sorted[[\"Title\",\"Rating\"]])"
      ],
      "metadata": {
        "colab": {
          "base_uri": "https://localhost:8080/"
        },
        "id": "SsBakpaqUF-1",
        "outputId": "c2b03289-7dca-4939-f89b-70dd71dbd3f2"
      },
      "execution_count": 8,
      "outputs": [
        {
          "output_type": "stream",
          "name": "stdout",
          "text": [
            "               Title  Rating\n",
            "1    The Dark Knight     9.0\n",
            "0          Inception     8.8\n",
            "3       Interstellar     8.6\n",
            "6  Avengers: Endgame     8.4\n",
            "4              Joker     8.4\n",
            "5       The Notebook     7.9\n",
            "2            Titanic     7.8\n"
          ]
        }
      ]
    },
    {
      "cell_type": "code",
      "source": [
        "#7\n",
        "genre_stats=df.groupby(\"Genre\").agg({\n",
        "    \"Rating\":\"mean\",\n",
        "    \"Revenue\":\"sum\"\n",
        "})\n",
        "genre_stats=genre_stats.rename(columns={\n",
        "    \"Rating\":\"AverageRating\",\n",
        "    \"Revenue\":\"Total Revenue\"\n",
        "\n",
        "})\n",
        "print(genre_stats)"
      ],
      "metadata": {
        "colab": {
          "base_uri": "https://localhost:8080/"
        },
        "id": "kPnmxz0KUexA",
        "outputId": "8c9485cd-4e31-4eb3-832c-62b7c86ab733"
      },
      "execution_count": 10,
      "outputs": [
        {
          "output_type": "stream",
          "name": "stdout",
          "text": [
            "         AverageRating  Total Revenue\n",
            "Genre                                \n",
            "Action            8.70   3.802359e+09\n",
            "Drama             8.40   1.074251e+09\n",
            "Romance           7.85   3.615310e+09\n",
            "Sci-Fi            8.70   1.503004e+09\n"
          ]
        }
      ]
    },
    {
      "cell_type": "code",
      "source": [
        "#8\n",
        "top_movies=df[(df[\"Rating\"]>=8.5) & (df[\"Profit\"]> 500_00_000)]\n",
        "print(top_movies[[\"Title\", \"Rating\", \"Profit\"]])"
      ],
      "metadata": {
        "colab": {
          "base_uri": "https://localhost:8080/"
        },
        "id": "9CLTZkZ2VUxj",
        "outputId": "70495425-8baa-4854-815d-9fef0f42b5e1"
      },
      "execution_count": 11,
      "outputs": [
        {
          "output_type": "stream",
          "name": "stdout",
          "text": [
            "             Title  Rating       Profit\n",
            "0        Inception     8.8  665532764.0\n",
            "1  The Dark Knight     9.0  819558444.0\n",
            "3     Interstellar     8.6  512471339.0\n"
          ]
        }
      ]
    },
    {
      "cell_type": "code",
      "source": [
        "#9\n",
        "import matplotlib.pyplot as plt\n",
        "# Set the figure size\n",
        "plt.figure(figsize=(10, 6))\n",
        "\n",
        "# Plot bar chart: Movie Title vs Profit\n",
        "plt.bar(df[\"Title\"], df[\"Profit\"], color=\"skyblue\")\n",
        "\n",
        "# Add titles and labels\n",
        "plt.title(\"Movie Profit by Title\")\n",
        "plt.xlabel(\"Movie Title\")\n",
        "plt.ylabel(\"Profit ($)\")\n",
        "plt.xticks(rotation=45, ha='right')\n",
        "\n",
        "# Show the plot\n",
        "plt.tight_layout()\n",
        "plt.show()"
      ],
      "metadata": {
        "colab": {
          "base_uri": "https://localhost:8080/",
          "height": 607
        },
        "id": "nSbzC__VVwPY",
        "outputId": "79ac9126-ccf8-4be3-d450-305239ff40bb"
      },
      "execution_count": 12,
      "outputs": [
        {
          "output_type": "display_data",
          "data": {
            "text/plain": [
              "<Figure size 1000x600 with 1 Axes>"
            ],
            "image/png": "[encoded data removed]"
          },
          "metadata": {}
        }
      ]
    },
    {
      "cell_type": "code",
      "source": [
        "#PART-2\n",
        "#1\n",
        "from pyspark.sql import SparkSession\n",
        "\n",
        "spark = SparkSession.builder.appName(\"MovieAnalysis\").getOrCreate()\n",
        "\n",
        "df_spark = spark.read.option(\"header\", True).option(\"inferSchema\", True).csv(\"movies.csv\")\n",
        "\n",
        "df_spark.show(5)\n",
        "\n",
        "df_spark.printSchema()\n"
      ],
      "metadata": {
        "colab": {
          "base_uri": "https://localhost:8080/"
        },
        "id": "d6CK7HyiXNxI",
        "outputId": "e0250269-05f6-49f9-ab04-af5fc63b6a2b"
      },
      "execution_count": 13,
      "outputs": [
        {
          "output_type": "stream",
          "name": "stdout",
          "text": [
            "+-------+---------------+-------+-----------+------+-------------+---------+\n",
            "|MovieID|          Title|  Genre|ReleaseDate|Rating|      Revenue|   Budget|\n",
            "+-------+---------------+-------+-----------+------+-------------+---------+\n",
            "|      1|      Inception| Sci-Fi| 2010-07-16|   8.8| 8.25532764E8|160000000|\n",
            "|      2|The Dark Knight| Action| 2008-07-18|   9.0|1.004558444E9|185000000|\n",
            "|      3|        Titanic|Romance| 1997-12-19|   7.8|2.187463944E9|200000000|\n",
            "|      4|   Interstellar| Sci-Fi| 2014-11-07|   8.6| 6.77471339E8|165000000|\n",
            "|      5|          Joker|  Drama| 2019-10-04|   8.4|1.074251311E9| 55000000|\n",
            "+-------+---------------+-------+-----------+------+-------------+---------+\n",
            "only showing top 5 rows\n",
            "\n",
            "root\n",
            " |-- MovieID: integer (nullable = true)\n",
            " |-- Title: string (nullable = true)\n",
            " |-- Genre: string (nullable = true)\n",
            " |-- ReleaseDate: date (nullable = true)\n",
            " |-- Rating: double (nullable = true)\n",
            " |-- Revenue: double (nullable = true)\n",
            " |-- Budget: integer (nullable = true)\n",
            "\n"
          ]
        }
      ]
    },
    {
      "cell_type": "code",
      "source": [
        "#2\n",
        "from pyspark.sql.functions import col\n",
        "df_spark=df_spark.withColumn(\"Profit\",col(\"Revenue\")-col(\"Budget\"))\n",
        "df_spark.select(\"Title\", \"Revenue\", \"Budget\", \"Profit\").show()"
      ],
      "metadata": {
        "colab": {
          "base_uri": "https://localhost:8080/"
        },
        "id": "4YEj-7ldYBjE",
        "outputId": "85b57eae-0927-4249-acb4-696a933f6892"
      },
      "execution_count": 14,
      "outputs": [
        {
          "output_type": "stream",
          "name": "stdout",
          "text": [
            "+-----------------+-------------+---------+-------------+\n",
            "|            Title|      Revenue|   Budget|       Profit|\n",
            "+-----------------+-------------+---------+-------------+\n",
            "|        Inception| 8.25532764E8|160000000| 6.65532764E8|\n",
            "|  The Dark Knight|1.004558444E9|185000000| 8.19558444E8|\n",
            "|          Titanic|2.187463944E9|200000000|1.987463944E9|\n",
            "|     Interstellar| 6.77471339E8|165000000| 5.12471339E8|\n",
            "|            Joker|1.074251311E9| 55000000|1.019251311E9|\n",
            "|     The Notebook|         NULL| 29000000|         NULL|\n",
            "|Avengers: Endgame|2.797800564E9|356000000|2.441800564E9|\n",
            "+-----------------+-------------+---------+-------------+\n",
            "\n"
          ]
        }
      ]
    },
    {
      "cell_type": "code",
      "source": [
        "#3\n",
        "\n",
        "sci_fi_hits = df_spark.filter(\n",
        "    (col(\"Genre\") == \"Sci-Fi\") & (col(\"Profit\") > 500_000_000)\n",
        ")\n",
        "sci_fi_hits.select(\"Title\", \"Genre\", \"Profit\").show()\n"
      ],
      "metadata": {
        "colab": {
          "base_uri": "https://localhost:8080/"
        },
        "id": "uIjZ9Sh3YnrO",
        "outputId": "168907cd-8904-49c9-d68e-3ca70aa05559"
      },
      "execution_count": 16,
      "outputs": [
        {
          "output_type": "stream",
          "name": "stdout",
          "text": [
            "+------------+------+------------+\n",
            "|       Title| Genre|      Profit|\n",
            "+------------+------+------------+\n",
            "|   Inception|Sci-Fi|6.65532764E8|\n",
            "|Interstellar|Sci-Fi|5.12471339E8|\n",
            "+------------+------+------------+\n",
            "\n"
          ]
        }
      ]
    },
    {
      "cell_type": "code",
      "source": [
        "#4\n",
        "genre_grouped=df_spark.groupBy(\"Genre\").agg({\n",
        "    \"Rating\":\"avg\",\n",
        "    \"Profit\":\"sum\"\n",
        "})\n",
        "genre_grouped=genre_grouped.withColumnRenamed(\"avg(Rating)\",\"AverageRating\")\\\n",
        "       .withColumnRenamed(\"sum(Profit)\",\"TotalProfit\")\n",
        "genre_grouped.show()"
      ],
      "metadata": {
        "colab": {
          "base_uri": "https://localhost:8080/"
        },
        "id": "ZM3FdHR1ZX0D",
        "outputId": "8a459722-17d0-4342-faa0-a36a6a64de25"
      },
      "execution_count": 20,
      "outputs": [
        {
          "output_type": "stream",
          "name": "stdout",
          "text": [
            "+-------+-------------+-------------+\n",
            "|  Genre|AverageRating|  TotalProfit|\n",
            "+-------+-------------+-------------+\n",
            "|Romance|         7.85|1.987463944E9|\n",
            "|  Drama|          8.4|1.019251311E9|\n",
            "| Action|          8.7|3.261359008E9|\n",
            "| Sci-Fi|          8.7|1.178004103E9|\n",
            "+-------+-------------+-------------+\n",
            "\n"
          ]
        }
      ]
    },
    {
      "cell_type": "code",
      "source": [
        "#5\n",
        "from pyspark.sql.functions import when\n",
        "df_spark = df_spark.withColumn(\n",
        "    \"RatingCategory\",\n",
        "    when(col(\"Rating\") == 9.0, \"Blockbuster\")\n",
        "    .when((col(\"Rating\") >= 8.0) & (col(\"Rating\") < 9.0), \"Hit\")\n",
        "    .otherwise(\"Average\")\n",
        ")\n",
        "df_spark.select(\"Title\", \"Rating\", \"RatingCategory\").show()\n"
      ],
      "metadata": {
        "colab": {
          "base_uri": "https://localhost:8080/"
        },
        "id": "sGhEk6HIjr99",
        "outputId": "b180e4fb-3996-45b1-b353-cfc110914858"
      },
      "execution_count": 24,
      "outputs": [
        {
          "output_type": "stream",
          "name": "stdout",
          "text": [
            "+-----------------+------+--------------+\n",
            "|            Title|Rating|RatingCategory|\n",
            "+-----------------+------+--------------+\n",
            "|        Inception|   8.8|           Hit|\n",
            "|  The Dark Knight|   9.0|   Blockbuster|\n",
            "|          Titanic|   7.8|       Average|\n",
            "|     Interstellar|   8.6|           Hit|\n",
            "|            Joker|   8.4|           Hit|\n",
            "|     The Notebook|   7.9|       Average|\n",
            "|Avengers: Endgame|   8.4|           Hit|\n",
            "+-----------------+------+--------------+\n",
            "\n"
          ]
        }
      ]
    },
    {
      "cell_type": "code",
      "source": [
        "#6\n",
        "df_spark=df_spark.drop(\"Budjet\")\n",
        "print(df_spark.columns)"
      ],
      "metadata": {
        "colab": {
          "base_uri": "https://localhost:8080/"
        },
        "id": "jhE4KE3Vk3_z",
        "outputId": "ba4c346b-40fb-49f5-f02c-771bd43a2259"
      },
      "execution_count": 26,
      "outputs": [
        {
          "output_type": "stream",
          "name": "stdout",
          "text": [
            "['MovieID', 'Title', 'Genre', 'ReleaseDate', 'Rating', 'Revenue', 'Budget', 'Profit', 'RatingCategory']\n"
          ]
        }
      ]
    },
    {
      "cell_type": "code",
      "source": [
        "#7\n",
        "avg_revenue = df_spark.selectExpr(\"avg(Revenue)\").first()[0]\n",
        "df_spark = df_spark.na.fill({\"Revenue\": avg_revenue})\n",
        "df_spark = df_spark.withColumn(\"Profit\", col(\"Revenue\") - col(\"Budget\"))\n",
        "\n",
        "df_spark.select(\"Title\", \"Revenue\", \"Profit\").show()\n"
      ],
      "metadata": {
        "colab": {
          "base_uri": "https://localhost:8080/"
        },
        "id": "YtVg3EcJlIW5",
        "outputId": "8368e3af-b873-4b43-df76-0b78f1a9eb94"
      },
      "execution_count": 27,
      "outputs": [
        {
          "output_type": "stream",
          "name": "stdout",
          "text": [
            "+-----------------+--------------------+--------------------+\n",
            "|            Title|             Revenue|              Profit|\n",
            "+-----------------+--------------------+--------------------+\n",
            "|        Inception|        8.25532764E8|        6.65532764E8|\n",
            "|  The Dark Knight|       1.004558444E9|        8.19558444E8|\n",
            "|          Titanic|       2.187463944E9|       1.987463944E9|\n",
            "|     Interstellar|        6.77471339E8|        5.12471339E8|\n",
            "|            Joker|       1.074251311E9|       1.019251311E9|\n",
            "|     The Notebook|1.4278463943333333E9|1.3988463943333333E9|\n",
            "|Avengers: Endgame|       2.797800564E9|       2.441800564E9|\n",
            "+-----------------+--------------------+--------------------+\n",
            "\n"
          ]
        }
      ]
    },
    {
      "cell_type": "code",
      "source": [
        "#8\n",
        "from pyspark.sql.functions import to_date, year, month\n",
        "\n",
        "\n",
        "df_spark = df_spark.withColumn(\"ReleaseDate\", to_date(col(\"ReleaseDate\"), \"yyyy-MM-dd\"))\n",
        "\n",
        "\n",
        "df_spark = df_spark.withColumn(\"ReleaseYear\", year(col(\"ReleaseDate\")))\n",
        "df_spark = df_spark.withColumn(\"ReleaseMonth\", month(col(\"ReleaseDate\")))\n",
        "\n",
        "\n",
        "df_spark.select(\"Title\", \"ReleaseDate\", \"ReleaseYear\", \"ReleaseMonth\").show()\n"
      ],
      "metadata": {
        "colab": {
          "base_uri": "https://localhost:8080/"
        },
        "id": "kXe0pnVolpFF",
        "outputId": "e01d4397-c5ae-4623-e239-4395ba453cbd"
      },
      "execution_count": 28,
      "outputs": [
        {
          "output_type": "stream",
          "name": "stdout",
          "text": [
            "+-----------------+-----------+-----------+------------+\n",
            "|            Title|ReleaseDate|ReleaseYear|ReleaseMonth|\n",
            "+-----------------+-----------+-----------+------------+\n",
            "|        Inception| 2010-07-16|       2010|           7|\n",
            "|  The Dark Knight| 2008-07-18|       2008|           7|\n",
            "|          Titanic| 1997-12-19|       1997|          12|\n",
            "|     Interstellar| 2014-11-07|       2014|          11|\n",
            "|            Joker| 2019-10-04|       2019|          10|\n",
            "|     The Notebook| 2004-06-25|       2004|           6|\n",
            "|Avengers: Endgame| 2019-04-26|       2019|           4|\n",
            "+-----------------+-----------+-----------+------------+\n",
            "\n"
          ]
        }
      ]
    },
    {
      "cell_type": "code",
      "source": [
        "#9\n",
        "from pyspark.sql.window import Window\n",
        "from pyspark.sql.functions import rank\n",
        "genre_window=Window.partitionBy(\"Genre\").orderBy(col(\"Profit\").desc())\n",
        "df_spark=df_spark.withColumn(\"GenreProfitRank\",rank().over(genre_window))\n",
        "df_spark.select(\"Title\", \"Genre\", \"Profit\", \"GenreProfitRank\").show()"
      ],
      "metadata": {
        "colab": {
          "base_uri": "https://localhost:8080/"
        },
        "id": "7JMdswRImEh0",
        "outputId": "5b2ae93b-1fcc-4c99-fc43-2b8f94c3462c"
      },
      "execution_count": 31,
      "outputs": [
        {
          "output_type": "stream",
          "name": "stdout",
          "text": [
            "+-----------------+-------+--------------------+---------------+\n",
            "|            Title|  Genre|              Profit|GenreProfitRank|\n",
            "+-----------------+-------+--------------------+---------------+\n",
            "|Avengers: Endgame| Action|       2.441800564E9|              1|\n",
            "|  The Dark Knight| Action|        8.19558444E8|              2|\n",
            "|            Joker|  Drama|       1.019251311E9|              1|\n",
            "|          Titanic|Romance|       1.987463944E9|              1|\n",
            "|     The Notebook|Romance|1.3988463943333333E9|              2|\n",
            "|        Inception| Sci-Fi|        6.65532764E8|              1|\n",
            "|     Interstellar| Sci-Fi|        5.12471339E8|              2|\n",
            "+-----------------+-------+--------------------+---------------+\n",
            "\n"
          ]
        }
      ]
    },
    {
      "cell_type": "code",
      "source": [
        "#PART-3\n",
        "import json\n",
        "\n",
        "# Data for bonus movies\n",
        "bonus_movies = [\n",
        "    {\"MovieID\": 8, \"Title\": \"Barbie\", \"Genre\": \"Drama\", \"Rating\": 7.5, \"Revenue\": 1456000000, \"Budget\": 145000000},\n",
        "    {\"MovieID\": 9, \"Title\": \"Oppenheimer\", \"Genre\": \"Drama\", \"Rating\": 8.6, \"Revenue\": 950000000, \"Budget\": 100000000}\n",
        "]\n",
        "with open(\"movies_bonus.json\", \"w\") as f:\n",
        "    json.dump(bonus_movies, f, indent=4)\n",
        "\n",
        "print(\"movies_bonus.json created!\")\n",
        "\n"
      ],
      "metadata": {
        "colab": {
          "base_uri": "https://localhost:8080/"
        },
        "id": "Jg5YjU8EqUkX",
        "outputId": "9b961d8a-6559-4603-b07b-d1114cb70dd4"
      },
      "execution_count": 32,
      "outputs": [
        {
          "output_type": "stream",
          "name": "stdout",
          "text": [
            "movies_bonus.json created!\n"
          ]
        }
      ]
    },
    {
      "cell_type": "code",
      "source": [
        "# Read the JSON file into a Spark DataFrame\n",
        "df_bonus = spark.read.option(\"multiline\", True).json(\"movies_bonus.json\")\n",
        "df_bonus.show()\n"
      ],
      "metadata": {
        "colab": {
          "base_uri": "https://localhost:8080/"
        },
        "id": "NWVZAH4qqnWm",
        "outputId": "57e626ad-113b-4c53-fe12-56f7ec153967"
      },
      "execution_count": 33,
      "outputs": [
        {
          "output_type": "stream",
          "name": "stdout",
          "text": [
            "+---------+-----+-------+------+----------+-----------+\n",
            "|   Budget|Genre|MovieID|Rating|   Revenue|      Title|\n",
            "+---------+-----+-------+------+----------+-----------+\n",
            "|145000000|Drama|      8|   7.5|1456000000|     Barbie|\n",
            "|100000000|Drama|      9|   8.6| 950000000|Oppenheimer|\n",
            "+---------+-----+-------+------+----------+-----------+\n",
            "\n"
          ]
        }
      ]
    },
    {
      "cell_type": "code",
      "source": [
        "#2\n",
        "columns_to_keep = [\"MovieID\", \"Title\", \"Genre\", \"Rating\", \"Revenue\", \"Budget\"]\n",
        "df_main_clean=df_spark.select(*columns_to_keep)\n",
        "df_bonus_clean=df_spark.select(*columns_to_keep)\n",
        "df_merged=df_main_clean.union(df_bonus_clean)\n",
        "df_merged.show()"
      ],
      "metadata": {
        "colab": {
          "base_uri": "https://localhost:8080/"
        },
        "id": "fE-YW6VirEYE",
        "outputId": "145c36ef-0082-4a71-8bd0-cecb17d9577d"
      },
      "execution_count": 34,
      "outputs": [
        {
          "output_type": "stream",
          "name": "stdout",
          "text": [
            "+-------+-----------------+-------+------+--------------------+---------+\n",
            "|MovieID|            Title|  Genre|Rating|             Revenue|   Budget|\n",
            "+-------+-----------------+-------+------+--------------------+---------+\n",
            "|      1|        Inception| Sci-Fi|   8.8|        8.25532764E8|160000000|\n",
            "|      2|  The Dark Knight| Action|   9.0|       1.004558444E9|185000000|\n",
            "|      3|          Titanic|Romance|   7.8|       2.187463944E9|200000000|\n",
            "|      4|     Interstellar| Sci-Fi|   8.6|        6.77471339E8|165000000|\n",
            "|      5|            Joker|  Drama|   8.4|       1.074251311E9| 55000000|\n",
            "|      6|     The Notebook|Romance|   7.9|1.4278463943333333E9| 29000000|\n",
            "|      7|Avengers: Endgame| Action|   8.4|       2.797800564E9|356000000|\n",
            "|      1|        Inception| Sci-Fi|   8.8|        8.25532764E8|160000000|\n",
            "|      2|  The Dark Knight| Action|   9.0|       1.004558444E9|185000000|\n",
            "|      3|          Titanic|Romance|   7.8|       2.187463944E9|200000000|\n",
            "|      4|     Interstellar| Sci-Fi|   8.6|        6.77471339E8|165000000|\n",
            "|      5|            Joker|  Drama|   8.4|       1.074251311E9| 55000000|\n",
            "|      6|     The Notebook|Romance|   7.9|1.4278463943333333E9| 29000000|\n",
            "|      7|Avengers: Endgame| Action|   8.4|       2.797800564E9|356000000|\n",
            "+-------+-----------------+-------+------+--------------------+---------+\n",
            "\n"
          ]
        }
      ]
    },
    {
      "cell_type": "code",
      "source": [
        "#3\n",
        "df_merged.orderBy(col(\"Revenue\").desc()).select(\"Title\",\"Revenue\").show(5)"
      ],
      "metadata": {
        "colab": {
          "base_uri": "https://localhost:8080/"
        },
        "id": "lbZoklpjtQqL",
        "outputId": "9adc707f-b79f-4b3a-b546-f6d577fad785"
      },
      "execution_count": 35,
      "outputs": [
        {
          "output_type": "stream",
          "name": "stdout",
          "text": [
            "+-----------------+--------------------+\n",
            "|            Title|             Revenue|\n",
            "+-----------------+--------------------+\n",
            "|Avengers: Endgame|       2.797800564E9|\n",
            "|Avengers: Endgame|       2.797800564E9|\n",
            "|          Titanic|       2.187463944E9|\n",
            "|          Titanic|       2.187463944E9|\n",
            "|     The Notebook|1.4278463943333333E9|\n",
            "+-----------------+--------------------+\n",
            "only showing top 5 rows\n",
            "\n"
          ]
        }
      ]
    },
    {
      "cell_type": "code",
      "source": [
        "# Save the merged DataFrame to a CSV file\n",
        "df_merged.write.mode(\"overwrite\").option(\"header\", True).csv(\"final_movies_output\")\n",
        "\n",
        "print(\" Final merged DataFrame saved as 'final_movies_output/' folder with CSV files inside.\")\n"
      ],
      "metadata": {
        "colab": {
          "base_uri": "https://localhost:8080/"
        },
        "id": "vhgnAWRotzb-",
        "outputId": "92e1888c-0a60-4ea4-9a9b-67af04ec2d6a"
      },
      "execution_count": 36,
      "outputs": [
        {
          "output_type": "stream",
          "name": "stdout",
          "text": [
            " Final merged DataFrame saved as 'final_movies_output/' folder with CSV files inside.\n"
          ]
        }
      ]
    },
    {
      "cell_type": "code",
      "source": [
        "#BONUS\n",
        "\n",
        "import pandas as pd\n",
        "\n",
        "# Combine original and bonus data\n",
        "data = [\n",
        "    [1, \"Inception\", \"Sci-Fi\", \"2010-07-16\", 8.8, 825532764, 160000000],\n",
        "    [2, \"The Dark Knight\", \"Action\", \"2008-07-18\", 9.0, 1004558444, 185000000],\n",
        "    [3, \"Titanic\", \"Romance\", \"1997-12-19\", 7.8, 2187463944, 200000000],\n",
        "    [4, \"Interstellar\", \"Sci-Fi\", \"2014-11-07\", 8.6, 677471339, 165000000],\n",
        "    [5, \"Joker\", \"Drama\", \"2019-10-04\", 8.4, 1074251311, 55000000],\n",
        "    [6, \"The Notebook\", \"Romance\", \"2004-06-25\", 7.9, 1183224071, 29000000],\n",
        "    [7, \"Avengers: Endgame\", \"Action\", \"2019-04-26\", 8.4, 2797800564, 356000000],\n",
        "    [8, \"Barbie\", \"Drama\", \"2023-07-21\", 7.5, 1456000000, 145000000],\n",
        "    [9, \"Oppenheimer\", \"Drama\", \"2023-07-21\", 8.6, 950000000, 100000000]\n",
        "]\n",
        "\n",
        "columns = [\"MovieID\", \"Title\", \"Genre\", \"ReleaseDate\", \"Rating\", \"Revenue\", \"Budget\"]\n",
        "df = pd.DataFrame(data, columns=columns)\n",
        "\n",
        "# Calculate Profit and ROI\n",
        "df[\"Profit\"] = df[\"Revenue\"] - df[\"Budget\"]\n",
        "df[\"ROI\"] = df[\"Profit\"] / df[\"Budget\"]\n",
        "\n",
        "# Filter movies with budget ≥ 50M\n",
        "df_filtered = df[df[\"Budget\"] >= 50000000]\n",
        "\n",
        "# Show ROI values\n",
        "print(df_filtered[[\"Title\", \"Genre\", \"Budget\", \"Profit\", \"ROI\"]])\n"
      ],
      "metadata": {
        "colab": {
          "base_uri": "https://localhost:8080/"
        },
        "id": "cGm7X33Ft8su",
        "outputId": "0239641c-3907-49a3-ce57-c142dca946d5"
      },
      "execution_count": 37,
      "outputs": [
        {
          "output_type": "stream",
          "name": "stdout",
          "text": [
            "               Title    Genre     Budget      Profit        ROI\n",
            "0          Inception   Sci-Fi  160000000   665532764   4.159580\n",
            "1    The Dark Knight   Action  185000000   819558444   4.430046\n",
            "2            Titanic  Romance  200000000  1987463944   9.937320\n",
            "3       Interstellar   Sci-Fi  165000000   512471339   3.105887\n",
            "4              Joker    Drama   55000000  1019251311  18.531842\n",
            "6  Avengers: Endgame   Action  356000000  2441800564   6.858990\n",
            "7             Barbie    Drama  145000000  1311000000   9.041379\n",
            "8        Oppenheimer    Drama  100000000   850000000   8.500000\n"
          ]
        }
      ]
    },
    {
      "cell_type": "code",
      "source": [
        "import matplotlib.pyplot as plt\n",
        "\n",
        "# Group by Genre and calculate average ROI\n",
        "genre_roi = df_filtered.groupby(\"Genre\")[\"ROI\"].mean().sort_values(ascending=False)\n",
        "\n",
        "# Plotting the bar chart\n",
        "plt.figure(figsize=(8, 5))\n",
        "genre_roi.plot(kind=\"bar\", color=\"mediumseagreen\")\n",
        "\n",
        "plt.title(\"Average ROI by Genre (Movies with Budget ≥ 50M)\")\n",
        "plt.xlabel(\"Genre\")\n",
        "plt.ylabel(\"ROI\")\n",
        "plt.xticks(rotation=45)\n",
        "plt.tight_layout()\n",
        "plt.show()\n"
      ],
      "metadata": {
        "colab": {
          "base_uri": "https://localhost:8080/",
          "height": 507
        },
        "id": "Gb6AQz8YualQ",
        "outputId": "415f9cc8-ca08-423b-b2e7-b4b33dfd93b7"
      },
      "execution_count": 39,
      "outputs": [
        {
          "output_type": "display_data",
          "data": {
            "text/plain": [
              "<Figure size 800x500 with 1 Axes>"
            ],
            "image/png": "[encoded data removed]"
          },
          "metadata": {}
        }
      ]
    }
  ]
}